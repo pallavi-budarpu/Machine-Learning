{
 "cells": [
  {
   "cell_type": "code",
   "execution_count": 1,
   "id": "d9facaf3",
   "metadata": {
    "ExecuteTime": {
     "end_time": "2022-04-21T16:06:59.785015Z",
     "start_time": "2022-04-21T16:06:56.563791Z"
    }
   },
   "outputs": [],
   "source": [
    "import pandas as pd\n",
    "import numpy as np\n",
    "from sklearn.preprocessing import LabelEncoder, StandardScaler\n",
    "from sklearn.ensemble import RandomForestClassifier, AdaBoostClassifier\n",
    "from sklearn.model_selection import train_test_split, cross_val_score, StratifiedKFold\n",
    "from sklearn.metrics import accuracy_score"
   ]
  },
  {
   "cell_type": "code",
   "execution_count": 2,
   "id": "c0db9c6f",
   "metadata": {
    "ExecuteTime": {
     "end_time": "2022-04-21T16:07:01.597567Z",
     "start_time": "2022-04-21T16:06:59.791013Z"
    }
   },
   "outputs": [
    {
     "data": {
      "text/html": [
       "<div>\n",
       "<style scoped>\n",
       "    .dataframe tbody tr th:only-of-type {\n",
       "        vertical-align: middle;\n",
       "    }\n",
       "\n",
       "    .dataframe tbody tr th {\n",
       "        vertical-align: top;\n",
       "    }\n",
       "\n",
       "    .dataframe thead th {\n",
       "        text-align: right;\n",
       "    }\n",
       "</style>\n",
       "<table border=\"1\" class=\"dataframe\">\n",
       "  <thead>\n",
       "    <tr style=\"text-align: right;\">\n",
       "      <th></th>\n",
       "      <th>Age</th>\n",
       "      <th>Gender</th>\n",
       "      <th>Occupation</th>\n",
       "      <th>Phone Type</th>\n",
       "      <th>Current Bike</th>\n",
       "      <th>Relationship</th>\n",
       "      <th>Response</th>\n",
       "    </tr>\n",
       "    <tr>\n",
       "      <th>ID</th>\n",
       "      <th></th>\n",
       "      <th></th>\n",
       "      <th></th>\n",
       "      <th></th>\n",
       "      <th></th>\n",
       "      <th></th>\n",
       "      <th></th>\n",
       "    </tr>\n",
       "  </thead>\n",
       "  <tbody>\n",
       "    <tr>\n",
       "      <th>1</th>\n",
       "      <td>53</td>\n",
       "      <td>Male</td>\n",
       "      <td>Professional</td>\n",
       "      <td>Average</td>\n",
       "      <td>180 to 220</td>\n",
       "      <td>Complicated</td>\n",
       "      <td>Not purchased</td>\n",
       "    </tr>\n",
       "    <tr>\n",
       "      <th>2</th>\n",
       "      <td>27</td>\n",
       "      <td>Female</td>\n",
       "      <td>Self Employed</td>\n",
       "      <td>Low End</td>\n",
       "      <td>No Bike</td>\n",
       "      <td>Single</td>\n",
       "      <td>Purchased</td>\n",
       "    </tr>\n",
       "    <tr>\n",
       "      <th>3</th>\n",
       "      <td>39</td>\n",
       "      <td>Female</td>\n",
       "      <td>Unemployed</td>\n",
       "      <td>Average</td>\n",
       "      <td>180 to 220</td>\n",
       "      <td>Married</td>\n",
       "      <td>Not purchased</td>\n",
       "    </tr>\n",
       "    <tr>\n",
       "      <th>4</th>\n",
       "      <td>20</td>\n",
       "      <td>Female</td>\n",
       "      <td>Unemployed</td>\n",
       "      <td>High End</td>\n",
       "      <td>No Bike</td>\n",
       "      <td>Married</td>\n",
       "      <td>Not purchased</td>\n",
       "    </tr>\n",
       "    <tr>\n",
       "      <th>5</th>\n",
       "      <td>29</td>\n",
       "      <td>Male</td>\n",
       "      <td>Student</td>\n",
       "      <td>Average</td>\n",
       "      <td>180 to 220</td>\n",
       "      <td>Complicated</td>\n",
       "      <td>Purchased</td>\n",
       "    </tr>\n",
       "  </tbody>\n",
       "</table>\n",
       "</div>"
      ],
      "text/plain": [
       "    Age  Gender     Occupation Phone Type Current Bike Relationship  \\\n",
       "ID                                                                    \n",
       "1    53   Male    Professional    Average   180 to 220  Complicated   \n",
       "2    27  Female  Self Employed    Low End      No Bike       Single   \n",
       "3    39  Female     Unemployed    Average   180 to 220      Married   \n",
       "4    20  Female     Unemployed   High End      No Bike      Married   \n",
       "5    29   Male         Student    Average   180 to 220  Complicated   \n",
       "\n",
       "         Response  \n",
       "ID                 \n",
       "1   Not purchased  \n",
       "2       Purchased  \n",
       "3   Not purchased  \n",
       "4   Not purchased  \n",
       "5       Purchased  "
      ]
     },
     "execution_count": 2,
     "metadata": {},
     "output_type": "execute_result"
    }
   ],
   "source": [
    "df = pd.read_excel(\"../KTM Raw Data.xlsx\", index_col=0)\n",
    "df.head()"
   ]
  },
  {
   "cell_type": "code",
   "execution_count": 3,
   "id": "8d45b21d",
   "metadata": {
    "ExecuteTime": {
     "end_time": "2022-04-21T16:07:01.613558Z",
     "start_time": "2022-04-21T16:07:01.604566Z"
    }
   },
   "outputs": [],
   "source": [
    "le = LabelEncoder()"
   ]
  },
  {
   "cell_type": "code",
   "execution_count": 4,
   "id": "bc2052d7",
   "metadata": {
    "ExecuteTime": {
     "end_time": "2022-04-21T16:07:01.770983Z",
     "start_time": "2022-04-21T16:07:01.620556Z"
    }
   },
   "outputs": [],
   "source": [
    "for col in df.columns:\n",
    "    if df[col].dtype == object:\n",
    "        df[col] = le.fit_transform(df[col])"
   ]
  },
  {
   "cell_type": "code",
   "execution_count": 5,
   "id": "349a33b7",
   "metadata": {
    "ExecuteTime": {
     "end_time": "2022-04-21T16:07:02.020618Z",
     "start_time": "2022-04-21T16:07:01.774981Z"
    }
   },
   "outputs": [
    {
     "data": {
      "text/html": [
       "<div>\n",
       "<style scoped>\n",
       "    .dataframe tbody tr th:only-of-type {\n",
       "        vertical-align: middle;\n",
       "    }\n",
       "\n",
       "    .dataframe tbody tr th {\n",
       "        vertical-align: top;\n",
       "    }\n",
       "\n",
       "    .dataframe thead th {\n",
       "        text-align: right;\n",
       "    }\n",
       "</style>\n",
       "<table border=\"1\" class=\"dataframe\">\n",
       "  <thead>\n",
       "    <tr style=\"text-align: right;\">\n",
       "      <th></th>\n",
       "      <th>Age</th>\n",
       "      <th>Gender</th>\n",
       "      <th>Occupation</th>\n",
       "      <th>Phone Type</th>\n",
       "      <th>Current Bike</th>\n",
       "      <th>Relationship</th>\n",
       "      <th>Response</th>\n",
       "    </tr>\n",
       "    <tr>\n",
       "      <th>ID</th>\n",
       "      <th></th>\n",
       "      <th></th>\n",
       "      <th></th>\n",
       "      <th></th>\n",
       "      <th></th>\n",
       "      <th></th>\n",
       "      <th></th>\n",
       "    </tr>\n",
       "  </thead>\n",
       "  <tbody>\n",
       "    <tr>\n",
       "      <th>1</th>\n",
       "      <td>53</td>\n",
       "      <td>1</td>\n",
       "      <td>0</td>\n",
       "      <td>0</td>\n",
       "      <td>1</td>\n",
       "      <td>1</td>\n",
       "      <td>0</td>\n",
       "    </tr>\n",
       "    <tr>\n",
       "      <th>2</th>\n",
       "      <td>27</td>\n",
       "      <td>0</td>\n",
       "      <td>1</td>\n",
       "      <td>2</td>\n",
       "      <td>4</td>\n",
       "      <td>3</td>\n",
       "      <td>1</td>\n",
       "    </tr>\n",
       "    <tr>\n",
       "      <th>3</th>\n",
       "      <td>39</td>\n",
       "      <td>0</td>\n",
       "      <td>3</td>\n",
       "      <td>0</td>\n",
       "      <td>1</td>\n",
       "      <td>2</td>\n",
       "      <td>0</td>\n",
       "    </tr>\n",
       "    <tr>\n",
       "      <th>4</th>\n",
       "      <td>20</td>\n",
       "      <td>0</td>\n",
       "      <td>3</td>\n",
       "      <td>1</td>\n",
       "      <td>4</td>\n",
       "      <td>2</td>\n",
       "      <td>0</td>\n",
       "    </tr>\n",
       "    <tr>\n",
       "      <th>5</th>\n",
       "      <td>29</td>\n",
       "      <td>1</td>\n",
       "      <td>2</td>\n",
       "      <td>0</td>\n",
       "      <td>1</td>\n",
       "      <td>1</td>\n",
       "      <td>1</td>\n",
       "    </tr>\n",
       "    <tr>\n",
       "      <th>...</th>\n",
       "      <td>...</td>\n",
       "      <td>...</td>\n",
       "      <td>...</td>\n",
       "      <td>...</td>\n",
       "      <td>...</td>\n",
       "      <td>...</td>\n",
       "      <td>...</td>\n",
       "    </tr>\n",
       "    <tr>\n",
       "      <th>1514</th>\n",
       "      <td>19</td>\n",
       "      <td>1</td>\n",
       "      <td>2</td>\n",
       "      <td>1</td>\n",
       "      <td>0</td>\n",
       "      <td>0</td>\n",
       "      <td>1</td>\n",
       "    </tr>\n",
       "    <tr>\n",
       "      <th>1515</th>\n",
       "      <td>18</td>\n",
       "      <td>1</td>\n",
       "      <td>2</td>\n",
       "      <td>1</td>\n",
       "      <td>3</td>\n",
       "      <td>2</td>\n",
       "      <td>1</td>\n",
       "    </tr>\n",
       "    <tr>\n",
       "      <th>1516</th>\n",
       "      <td>24</td>\n",
       "      <td>0</td>\n",
       "      <td>2</td>\n",
       "      <td>1</td>\n",
       "      <td>1</td>\n",
       "      <td>2</td>\n",
       "      <td>1</td>\n",
       "    </tr>\n",
       "    <tr>\n",
       "      <th>1517</th>\n",
       "      <td>23</td>\n",
       "      <td>0</td>\n",
       "      <td>2</td>\n",
       "      <td>1</td>\n",
       "      <td>0</td>\n",
       "      <td>3</td>\n",
       "      <td>1</td>\n",
       "    </tr>\n",
       "    <tr>\n",
       "      <th>1518</th>\n",
       "      <td>18</td>\n",
       "      <td>1</td>\n",
       "      <td>2</td>\n",
       "      <td>1</td>\n",
       "      <td>1</td>\n",
       "      <td>3</td>\n",
       "      <td>1</td>\n",
       "    </tr>\n",
       "  </tbody>\n",
       "</table>\n",
       "<p>1518 rows × 7 columns</p>\n",
       "</div>"
      ],
      "text/plain": [
       "      Age  Gender  Occupation  Phone Type  Current Bike  Relationship  \\\n",
       "ID                                                                      \n",
       "1      53       1           0           0             1             1   \n",
       "2      27       0           1           2             4             3   \n",
       "3      39       0           3           0             1             2   \n",
       "4      20       0           3           1             4             2   \n",
       "5      29       1           2           0             1             1   \n",
       "...   ...     ...         ...         ...           ...           ...   \n",
       "1514   19       1           2           1             0             0   \n",
       "1515   18       1           2           1             3             2   \n",
       "1516   24       0           2           1             1             2   \n",
       "1517   23       0           2           1             0             3   \n",
       "1518   18       1           2           1             1             3   \n",
       "\n",
       "      Response  \n",
       "ID              \n",
       "1            0  \n",
       "2            1  \n",
       "3            0  \n",
       "4            0  \n",
       "5            1  \n",
       "...        ...  \n",
       "1514         1  \n",
       "1515         1  \n",
       "1516         1  \n",
       "1517         1  \n",
       "1518         1  \n",
       "\n",
       "[1518 rows x 7 columns]"
      ]
     },
     "execution_count": 5,
     "metadata": {},
     "output_type": "execute_result"
    }
   ],
   "source": [
    "df"
   ]
  },
  {
   "cell_type": "code",
   "execution_count": 6,
   "id": "69f14438",
   "metadata": {
    "ExecuteTime": {
     "end_time": "2022-04-21T16:07:02.194519Z",
     "start_time": "2022-04-21T16:07:02.024615Z"
    }
   },
   "outputs": [],
   "source": [
    "X = df.drop(\"Response\", axis=1)"
   ]
  },
  {
   "cell_type": "code",
   "execution_count": 7,
   "id": "464b11ba",
   "metadata": {
    "ExecuteTime": {
     "end_time": "2022-04-21T16:07:02.305454Z",
     "start_time": "2022-04-21T16:07:02.199516Z"
    }
   },
   "outputs": [],
   "source": [
    "y = df[[\"Response\"]]"
   ]
  },
  {
   "cell_type": "code",
   "execution_count": 8,
   "id": "49cd78b4",
   "metadata": {
    "ExecuteTime": {
     "end_time": "2022-04-21T16:07:02.432412Z",
     "start_time": "2022-04-21T16:07:02.311453Z"
    }
   },
   "outputs": [],
   "source": [
    "sc = StandardScaler()"
   ]
  },
  {
   "cell_type": "code",
   "execution_count": 9,
   "id": "0491a568",
   "metadata": {
    "ExecuteTime": {
     "end_time": "2022-04-21T16:07:02.558148Z",
     "start_time": "2022-04-21T16:07:02.438410Z"
    }
   },
   "outputs": [],
   "source": [
    "X = sc.fit_transform(X)"
   ]
  },
  {
   "cell_type": "code",
   "execution_count": 10,
   "id": "b98aec58",
   "metadata": {
    "ExecuteTime": {
     "end_time": "2022-04-21T16:07:02.670079Z",
     "start_time": "2022-04-21T16:07:02.567137Z"
    }
   },
   "outputs": [],
   "source": [
    "X_train, X_test, y_train, y_test = train_test_split(X, y, test_size=0.2, random_state=1)"
   ]
  },
  {
   "cell_type": "code",
   "execution_count": 11,
   "id": "82a2ae40",
   "metadata": {
    "ExecuteTime": {
     "end_time": "2022-04-21T16:07:02.766022Z",
     "start_time": "2022-04-21T16:07:02.675075Z"
    }
   },
   "outputs": [],
   "source": [
    "rfc = RandomForestClassifier()"
   ]
  },
  {
   "cell_type": "code",
   "execution_count": 12,
   "id": "e229e984",
   "metadata": {
    "ExecuteTime": {
     "end_time": "2022-04-21T16:07:03.468651Z",
     "start_time": "2022-04-21T16:07:02.771020Z"
    }
   },
   "outputs": [
    {
     "name": "stderr",
     "output_type": "stream",
     "text": [
      "C:\\Users\\palla\\AppData\\Local\\Temp/ipykernel_18056/1542427849.py:1: DataConversionWarning: A column-vector y was passed when a 1d array was expected. Please change the shape of y to (n_samples,), for example using ravel().\n",
      "  rfc.fit(X_train, y_train)\n"
     ]
    },
    {
     "data": {
      "text/plain": [
       "RandomForestClassifier()"
      ]
     },
     "execution_count": 12,
     "metadata": {},
     "output_type": "execute_result"
    }
   ],
   "source": [
    "rfc.fit(X_train, y_train)"
   ]
  },
  {
   "cell_type": "code",
   "execution_count": 13,
   "id": "0b9cf58a",
   "metadata": {
    "ExecuteTime": {
     "end_time": "2022-04-21T16:07:03.531616Z",
     "start_time": "2022-04-21T16:07:03.471620Z"
    }
   },
   "outputs": [],
   "source": [
    "y_pred = rfc.predict(X_test)"
   ]
  },
  {
   "cell_type": "code",
   "execution_count": 14,
   "id": "0b73cef7",
   "metadata": {
    "ExecuteTime": {
     "end_time": "2022-04-21T16:07:03.641572Z",
     "start_time": "2022-04-21T16:07:03.534998Z"
    }
   },
   "outputs": [
    {
     "data": {
      "text/plain": [
       "0.7631578947368421"
      ]
     },
     "execution_count": 14,
     "metadata": {},
     "output_type": "execute_result"
    }
   ],
   "source": [
    "accuracy_score(y_test, y_pred)"
   ]
  },
  {
   "cell_type": "code",
   "execution_count": 15,
   "id": "33ad560b",
   "metadata": {
    "ExecuteTime": {
     "end_time": "2022-04-21T16:07:07.453648Z",
     "start_time": "2022-04-21T16:07:03.646574Z"
    }
   },
   "outputs": [
    {
     "name": "stderr",
     "output_type": "stream",
     "text": [
      "C:\\Users\\palla\\anaconda3\\lib\\site-packages\\sklearn\\model_selection\\_validation.py:598: DataConversionWarning: A column-vector y was passed when a 1d array was expected. Please change the shape of y to (n_samples,), for example using ravel().\n",
      "  estimator.fit(X_train, y_train, **fit_params)\n",
      "C:\\Users\\palla\\anaconda3\\lib\\site-packages\\sklearn\\model_selection\\_validation.py:598: DataConversionWarning: A column-vector y was passed when a 1d array was expected. Please change the shape of y to (n_samples,), for example using ravel().\n",
      "  estimator.fit(X_train, y_train, **fit_params)\n",
      "C:\\Users\\palla\\anaconda3\\lib\\site-packages\\sklearn\\model_selection\\_validation.py:598: DataConversionWarning: A column-vector y was passed when a 1d array was expected. Please change the shape of y to (n_samples,), for example using ravel().\n",
      "  estimator.fit(X_train, y_train, **fit_params)\n",
      "C:\\Users\\palla\\anaconda3\\lib\\site-packages\\sklearn\\model_selection\\_validation.py:598: DataConversionWarning: A column-vector y was passed when a 1d array was expected. Please change the shape of y to (n_samples,), for example using ravel().\n",
      "  estimator.fit(X_train, y_train, **fit_params)\n",
      "C:\\Users\\palla\\anaconda3\\lib\\site-packages\\sklearn\\model_selection\\_validation.py:598: DataConversionWarning: A column-vector y was passed when a 1d array was expected. Please change the shape of y to (n_samples,), for example using ravel().\n",
      "  estimator.fit(X_train, y_train, **fit_params)\n",
      "C:\\Users\\palla\\anaconda3\\lib\\site-packages\\sklearn\\model_selection\\_validation.py:598: DataConversionWarning: A column-vector y was passed when a 1d array was expected. Please change the shape of y to (n_samples,), for example using ravel().\n",
      "  estimator.fit(X_train, y_train, **fit_params)\n",
      "C:\\Users\\palla\\anaconda3\\lib\\site-packages\\sklearn\\model_selection\\_validation.py:598: DataConversionWarning: A column-vector y was passed when a 1d array was expected. Please change the shape of y to (n_samples,), for example using ravel().\n",
      "  estimator.fit(X_train, y_train, **fit_params)\n",
      "C:\\Users\\palla\\anaconda3\\lib\\site-packages\\sklearn\\model_selection\\_validation.py:598: DataConversionWarning: A column-vector y was passed when a 1d array was expected. Please change the shape of y to (n_samples,), for example using ravel().\n",
      "  estimator.fit(X_train, y_train, **fit_params)\n",
      "C:\\Users\\palla\\anaconda3\\lib\\site-packages\\sklearn\\model_selection\\_validation.py:598: DataConversionWarning: A column-vector y was passed when a 1d array was expected. Please change the shape of y to (n_samples,), for example using ravel().\n",
      "  estimator.fit(X_train, y_train, **fit_params)\n",
      "C:\\Users\\palla\\anaconda3\\lib\\site-packages\\sklearn\\model_selection\\_validation.py:598: DataConversionWarning: A column-vector y was passed when a 1d array was expected. Please change the shape of y to (n_samples,), for example using ravel().\n",
      "  estimator.fit(X_train, y_train, **fit_params)\n"
     ]
    }
   ],
   "source": [
    "cv_score = cross_val_score(rfc, X, y, cv=10)"
   ]
  },
  {
   "cell_type": "code",
   "execution_count": 16,
   "id": "d2fb17ef",
   "metadata": {
    "ExecuteTime": {
     "end_time": "2022-04-21T16:07:07.468645Z",
     "start_time": "2022-04-21T16:07:07.458654Z"
    }
   },
   "outputs": [
    {
     "data": {
      "text/plain": [
       "array([0.54605263, 0.53289474, 0.51315789, 0.53289474, 0.86184211,\n",
       "       0.89473684, 0.85526316, 0.91447368, 0.8410596 , 0.88741722])"
      ]
     },
     "execution_count": 16,
     "metadata": {},
     "output_type": "execute_result"
    }
   ],
   "source": [
    "cv_score"
   ]
  },
  {
   "cell_type": "code",
   "execution_count": 17,
   "id": "fcfcf394",
   "metadata": {
    "ExecuteTime": {
     "end_time": "2022-04-21T16:07:07.594648Z",
     "start_time": "2022-04-21T16:07:07.474641Z"
    }
   },
   "outputs": [
    {
     "data": {
      "text/plain": [
       "0.7379792610665736"
      ]
     },
     "execution_count": 17,
     "metadata": {},
     "output_type": "execute_result"
    }
   ],
   "source": [
    "np.mean(cv_score)"
   ]
  },
  {
   "cell_type": "code",
   "execution_count": null,
   "id": "7c1992bb",
   "metadata": {},
   "outputs": [],
   "source": []
  }
 ],
 "metadata": {
  "kernelspec": {
   "display_name": "Python 3 (ipykernel)",
   "language": "python",
   "name": "python3"
  },
  "language_info": {
   "codemirror_mode": {
    "name": "ipython",
    "version": 3
   },
   "file_extension": ".py",
   "mimetype": "text/x-python",
   "name": "python",
   "nbconvert_exporter": "python",
   "pygments_lexer": "ipython3",
   "version": "3.9.7"
  }
 },
 "nbformat": 4,
 "nbformat_minor": 5
}
