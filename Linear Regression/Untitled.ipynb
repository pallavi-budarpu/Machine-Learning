{
 "cells": [
  {
   "cell_type": "code",
   "execution_count": 2,
   "id": "b7f5a5e9",
   "metadata": {
    "ExecuteTime": {
     "end_time": "2022-04-05T17:07:27.043452Z",
     "start_time": "2022-04-05T17:07:27.032478Z"
    }
   },
   "outputs": [],
   "source": [
    "\n",
    "from sklearn.linear_model import LinearRegression\n",
    "from sklearn.model_selection import train_test_split\n",
    "from sklearn.metrics import r2_score"
   ]
  },
  {
   "cell_type": "code",
   "execution_count": null,
   "id": "abfc847b",
   "metadata": {},
   "outputs": [],
   "source": [
    "def model_builder(X, y, size=0.3):\n",
    "    X_train, X_test, y_train, y_test = train_test_split(X, y, test_size=size, random_state=1)\n",
    "    model = LinearRegression()\n",
    "    model.fit(X_train, y_train)\n",
    "    y_pred = model.predict(X_test)\n",
    "    accuracy = r2_score(y_test, y_pred)\n",
    "    return accuracy"
   ]
  }
 ],
 "metadata": {
  "kernelspec": {
   "display_name": "Python 3 (ipykernel)",
   "language": "python",
   "name": "python3"
  },
  "language_info": {
   "codemirror_mode": {
    "name": "ipython",
    "version": 3
   },
   "file_extension": ".py",
   "mimetype": "text/x-python",
   "name": "python",
   "nbconvert_exporter": "python",
   "pygments_lexer": "ipython3",
   "version": "3.9.7"
  }
 },
 "nbformat": 4,
 "nbformat_minor": 5
}
