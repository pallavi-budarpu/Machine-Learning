{
 "cells": [
  {
   "cell_type": "code",
   "execution_count": 42,
   "id": "8a9e386c",
   "metadata": {
    "ExecuteTime": {
     "end_time": "2022-04-11T15:59:53.360875Z",
     "start_time": "2022-04-11T15:59:53.349881Z"
    }
   },
   "outputs": [],
   "source": [
    "import pandas as pd\n",
    "from sklearn.datasets import load_boston\n",
    "from sklearn.model_selection import train_test_split, GridSearchCV, cross_val_score\n",
    "from sklearn.linear_model import LinearRegression, Lasso,Ridge\n",
    "from sklearn.metrics import mean_squared_error, r2_score\n",
    "import warnings\n",
    "warnings.filterwarnings(\"ignore\")\n",
    "import numpy as np"
   ]
  },
  {
   "cell_type": "code",
   "execution_count": 2,
   "id": "075c85cb",
   "metadata": {
    "ExecuteTime": {
     "end_time": "2022-04-11T15:55:16.534663Z",
     "start_time": "2022-04-11T15:55:16.372760Z"
    }
   },
   "outputs": [],
   "source": [
    "boston = load_boston()"
   ]
  },
  {
   "cell_type": "code",
   "execution_count": 3,
   "id": "208ee60e",
   "metadata": {
    "ExecuteTime": {
     "end_time": "2022-04-11T15:55:16.675584Z",
     "start_time": "2022-04-11T15:55:16.539663Z"
    }
   },
   "outputs": [
    {
     "data": {
      "text/html": [
       "<div>\n",
       "<style scoped>\n",
       "    .dataframe tbody tr th:only-of-type {\n",
       "        vertical-align: middle;\n",
       "    }\n",
       "\n",
       "    .dataframe tbody tr th {\n",
       "        vertical-align: top;\n",
       "    }\n",
       "\n",
       "    .dataframe thead th {\n",
       "        text-align: right;\n",
       "    }\n",
       "</style>\n",
       "<table border=\"1\" class=\"dataframe\">\n",
       "  <thead>\n",
       "    <tr style=\"text-align: right;\">\n",
       "      <th></th>\n",
       "      <th>CRIM</th>\n",
       "      <th>ZN</th>\n",
       "      <th>INDUS</th>\n",
       "      <th>CHAS</th>\n",
       "      <th>NOX</th>\n",
       "      <th>RM</th>\n",
       "      <th>AGE</th>\n",
       "      <th>DIS</th>\n",
       "      <th>RAD</th>\n",
       "      <th>TAX</th>\n",
       "      <th>PTRATIO</th>\n",
       "      <th>B</th>\n",
       "      <th>LSTAT</th>\n",
       "    </tr>\n",
       "  </thead>\n",
       "  <tbody>\n",
       "    <tr>\n",
       "      <th>0</th>\n",
       "      <td>0.00632</td>\n",
       "      <td>18.0</td>\n",
       "      <td>2.31</td>\n",
       "      <td>0.0</td>\n",
       "      <td>0.538</td>\n",
       "      <td>6.575</td>\n",
       "      <td>65.2</td>\n",
       "      <td>4.0900</td>\n",
       "      <td>1.0</td>\n",
       "      <td>296.0</td>\n",
       "      <td>15.3</td>\n",
       "      <td>396.90</td>\n",
       "      <td>4.98</td>\n",
       "    </tr>\n",
       "    <tr>\n",
       "      <th>1</th>\n",
       "      <td>0.02731</td>\n",
       "      <td>0.0</td>\n",
       "      <td>7.07</td>\n",
       "      <td>0.0</td>\n",
       "      <td>0.469</td>\n",
       "      <td>6.421</td>\n",
       "      <td>78.9</td>\n",
       "      <td>4.9671</td>\n",
       "      <td>2.0</td>\n",
       "      <td>242.0</td>\n",
       "      <td>17.8</td>\n",
       "      <td>396.90</td>\n",
       "      <td>9.14</td>\n",
       "    </tr>\n",
       "    <tr>\n",
       "      <th>2</th>\n",
       "      <td>0.02729</td>\n",
       "      <td>0.0</td>\n",
       "      <td>7.07</td>\n",
       "      <td>0.0</td>\n",
       "      <td>0.469</td>\n",
       "      <td>7.185</td>\n",
       "      <td>61.1</td>\n",
       "      <td>4.9671</td>\n",
       "      <td>2.0</td>\n",
       "      <td>242.0</td>\n",
       "      <td>17.8</td>\n",
       "      <td>392.83</td>\n",
       "      <td>4.03</td>\n",
       "    </tr>\n",
       "    <tr>\n",
       "      <th>3</th>\n",
       "      <td>0.03237</td>\n",
       "      <td>0.0</td>\n",
       "      <td>2.18</td>\n",
       "      <td>0.0</td>\n",
       "      <td>0.458</td>\n",
       "      <td>6.998</td>\n",
       "      <td>45.8</td>\n",
       "      <td>6.0622</td>\n",
       "      <td>3.0</td>\n",
       "      <td>222.0</td>\n",
       "      <td>18.7</td>\n",
       "      <td>394.63</td>\n",
       "      <td>2.94</td>\n",
       "    </tr>\n",
       "    <tr>\n",
       "      <th>4</th>\n",
       "      <td>0.06905</td>\n",
       "      <td>0.0</td>\n",
       "      <td>2.18</td>\n",
       "      <td>0.0</td>\n",
       "      <td>0.458</td>\n",
       "      <td>7.147</td>\n",
       "      <td>54.2</td>\n",
       "      <td>6.0622</td>\n",
       "      <td>3.0</td>\n",
       "      <td>222.0</td>\n",
       "      <td>18.7</td>\n",
       "      <td>396.90</td>\n",
       "      <td>5.33</td>\n",
       "    </tr>\n",
       "  </tbody>\n",
       "</table>\n",
       "</div>"
      ],
      "text/plain": [
       "      CRIM    ZN  INDUS  CHAS    NOX     RM   AGE     DIS  RAD    TAX  \\\n",
       "0  0.00632  18.0   2.31   0.0  0.538  6.575  65.2  4.0900  1.0  296.0   \n",
       "1  0.02731   0.0   7.07   0.0  0.469  6.421  78.9  4.9671  2.0  242.0   \n",
       "2  0.02729   0.0   7.07   0.0  0.469  7.185  61.1  4.9671  2.0  242.0   \n",
       "3  0.03237   0.0   2.18   0.0  0.458  6.998  45.8  6.0622  3.0  222.0   \n",
       "4  0.06905   0.0   2.18   0.0  0.458  7.147  54.2  6.0622  3.0  222.0   \n",
       "\n",
       "   PTRATIO       B  LSTAT  \n",
       "0     15.3  396.90   4.98  \n",
       "1     17.8  396.90   9.14  \n",
       "2     17.8  392.83   4.03  \n",
       "3     18.7  394.63   2.94  \n",
       "4     18.7  396.90   5.33  "
      ]
     },
     "execution_count": 3,
     "metadata": {},
     "output_type": "execute_result"
    }
   ],
   "source": [
    "df = pd.DataFrame(boston.data,columns=boston.feature_names)\n",
    "df.head()"
   ]
  },
  {
   "cell_type": "code",
   "execution_count": 4,
   "id": "ad3053a0",
   "metadata": {
    "ExecuteTime": {
     "end_time": "2022-04-11T15:55:16.961420Z",
     "start_time": "2022-04-11T15:55:16.684580Z"
    }
   },
   "outputs": [
    {
     "data": {
      "text/html": [
       "<div>\n",
       "<style scoped>\n",
       "    .dataframe tbody tr th:only-of-type {\n",
       "        vertical-align: middle;\n",
       "    }\n",
       "\n",
       "    .dataframe tbody tr th {\n",
       "        vertical-align: top;\n",
       "    }\n",
       "\n",
       "    .dataframe thead th {\n",
       "        text-align: right;\n",
       "    }\n",
       "</style>\n",
       "<table border=\"1\" class=\"dataframe\">\n",
       "  <thead>\n",
       "    <tr style=\"text-align: right;\">\n",
       "      <th></th>\n",
       "      <th>Prices</th>\n",
       "    </tr>\n",
       "  </thead>\n",
       "  <tbody>\n",
       "    <tr>\n",
       "      <th>0</th>\n",
       "      <td>24.0</td>\n",
       "    </tr>\n",
       "    <tr>\n",
       "      <th>1</th>\n",
       "      <td>21.6</td>\n",
       "    </tr>\n",
       "    <tr>\n",
       "      <th>2</th>\n",
       "      <td>34.7</td>\n",
       "    </tr>\n",
       "    <tr>\n",
       "      <th>3</th>\n",
       "      <td>33.4</td>\n",
       "    </tr>\n",
       "    <tr>\n",
       "      <th>4</th>\n",
       "      <td>36.2</td>\n",
       "    </tr>\n",
       "  </tbody>\n",
       "</table>\n",
       "</div>"
      ],
      "text/plain": [
       "   Prices\n",
       "0    24.0\n",
       "1    21.6\n",
       "2    34.7\n",
       "3    33.4\n",
       "4    36.2"
      ]
     },
     "execution_count": 4,
     "metadata": {},
     "output_type": "execute_result"
    }
   ],
   "source": [
    "y = pd.DataFrame(boston.target, columns=[\"Prices\"])\n",
    "y.head()"
   ]
  },
  {
   "cell_type": "code",
   "execution_count": 5,
   "id": "399e1d59",
   "metadata": {
    "ExecuteTime": {
     "end_time": "2022-04-11T15:55:17.129325Z",
     "start_time": "2022-04-11T15:55:16.971418Z"
    }
   },
   "outputs": [
    {
     "data": {
      "text/plain": [
       "(506, 13)"
      ]
     },
     "execution_count": 5,
     "metadata": {},
     "output_type": "execute_result"
    }
   ],
   "source": [
    "df.shape"
   ]
  },
  {
   "cell_type": "code",
   "execution_count": 6,
   "id": "6aa70377",
   "metadata": {
    "ExecuteTime": {
     "end_time": "2022-04-11T15:55:17.293231Z",
     "start_time": "2022-04-11T15:55:17.133323Z"
    }
   },
   "outputs": [],
   "source": [
    "X = df"
   ]
  },
  {
   "cell_type": "code",
   "execution_count": 7,
   "id": "76bfcec4",
   "metadata": {
    "ExecuteTime": {
     "end_time": "2022-04-11T15:55:17.429152Z",
     "start_time": "2022-04-11T15:55:17.297228Z"
    }
   },
   "outputs": [],
   "source": [
    "X_train, X_test, y_train, y_test = train_test_split(X,y,test_size=0.3,random_state=1)"
   ]
  },
  {
   "cell_type": "code",
   "execution_count": 8,
   "id": "df10276e",
   "metadata": {
    "ExecuteTime": {
     "end_time": "2022-04-11T15:55:17.551083Z",
     "start_time": "2022-04-11T15:55:17.433150Z"
    }
   },
   "outputs": [
    {
     "data": {
      "text/plain": [
       "(354, 13)"
      ]
     },
     "execution_count": 8,
     "metadata": {},
     "output_type": "execute_result"
    }
   ],
   "source": [
    "X_train.shape"
   ]
  },
  {
   "cell_type": "code",
   "execution_count": 9,
   "id": "e371d494",
   "metadata": {
    "ExecuteTime": {
     "end_time": "2022-04-11T15:55:17.647029Z",
     "start_time": "2022-04-11T15:55:17.556082Z"
    }
   },
   "outputs": [
    {
     "data": {
      "text/plain": [
       "(152, 13)"
      ]
     },
     "execution_count": 9,
     "metadata": {},
     "output_type": "execute_result"
    }
   ],
   "source": [
    "X_test.shape"
   ]
  },
  {
   "cell_type": "code",
   "execution_count": 10,
   "id": "bb5a3984",
   "metadata": {
    "ExecuteTime": {
     "end_time": "2022-04-11T15:55:17.784950Z",
     "start_time": "2022-04-11T15:55:17.652026Z"
    }
   },
   "outputs": [
    {
     "data": {
      "text/plain": [
       "(354, 1)"
      ]
     },
     "execution_count": 10,
     "metadata": {},
     "output_type": "execute_result"
    }
   ],
   "source": [
    "y_train.shape"
   ]
  },
  {
   "cell_type": "code",
   "execution_count": 11,
   "id": "9008d547",
   "metadata": {
    "ExecuteTime": {
     "end_time": "2022-04-11T15:55:18.028810Z",
     "start_time": "2022-04-11T15:55:17.789948Z"
    }
   },
   "outputs": [
    {
     "data": {
      "text/plain": [
       "(152, 1)"
      ]
     },
     "execution_count": 11,
     "metadata": {},
     "output_type": "execute_result"
    }
   ],
   "source": [
    "y_test.shape"
   ]
  },
  {
   "cell_type": "code",
   "execution_count": 12,
   "id": "b7d5e84f",
   "metadata": {
    "ExecuteTime": {
     "end_time": "2022-04-11T15:55:18.134749Z",
     "start_time": "2022-04-11T15:55:18.033807Z"
    }
   },
   "outputs": [],
   "source": [
    "lr = LinearRegression()"
   ]
  },
  {
   "cell_type": "code",
   "execution_count": 13,
   "id": "df7c7b94",
   "metadata": {
    "ExecuteTime": {
     "end_time": "2022-04-11T15:55:18.767440Z",
     "start_time": "2022-04-11T15:55:18.138748Z"
    }
   },
   "outputs": [
    {
     "data": {
      "text/plain": [
       "LinearRegression()"
      ]
     },
     "execution_count": 13,
     "metadata": {},
     "output_type": "execute_result"
    }
   ],
   "source": [
    "lr.fit(X_train,y_train)"
   ]
  },
  {
   "cell_type": "code",
   "execution_count": 14,
   "id": "3b5a5245",
   "metadata": {
    "ExecuteTime": {
     "end_time": "2022-04-11T15:55:18.792429Z",
     "start_time": "2022-04-11T15:55:18.777436Z"
    }
   },
   "outputs": [],
   "source": [
    "y_pred = lr.predict(X_test)"
   ]
  },
  {
   "cell_type": "code",
   "execution_count": 15,
   "id": "209fb3fa",
   "metadata": {
    "ExecuteTime": {
     "end_time": "2022-04-11T15:55:18.896367Z",
     "start_time": "2022-04-11T15:55:18.800423Z"
    }
   },
   "outputs": [
    {
     "data": {
      "text/plain": [
       "19.831323672063235"
      ]
     },
     "execution_count": 15,
     "metadata": {},
     "output_type": "execute_result"
    }
   ],
   "source": [
    "mean_squared_error(y_test,y_pred)"
   ]
  },
  {
   "cell_type": "code",
   "execution_count": 16,
   "id": "0258b16b",
   "metadata": {
    "ExecuteTime": {
     "end_time": "2022-04-11T15:55:19.166199Z",
     "start_time": "2022-04-11T15:55:18.899365Z"
    }
   },
   "outputs": [],
   "source": [
    "ls = Lasso()"
   ]
  },
  {
   "cell_type": "code",
   "execution_count": 17,
   "id": "70195950",
   "metadata": {
    "ExecuteTime": {
     "end_time": "2022-04-11T15:55:19.699145Z",
     "start_time": "2022-04-11T15:55:19.170174Z"
    }
   },
   "outputs": [
    {
     "data": {
      "text/plain": [
       "Lasso()"
      ]
     },
     "execution_count": 17,
     "metadata": {},
     "output_type": "execute_result"
    }
   ],
   "source": [
    "ls.fit(X_train,y_train)"
   ]
  },
  {
   "cell_type": "code",
   "execution_count": 18,
   "id": "e3f917ea",
   "metadata": {
    "ExecuteTime": {
     "end_time": "2022-04-11T15:55:19.777100Z",
     "start_time": "2022-04-11T15:55:19.704139Z"
    }
   },
   "outputs": [],
   "source": [
    "y_ls_pred = ls.predict(X_test)"
   ]
  },
  {
   "cell_type": "code",
   "execution_count": 19,
   "id": "b167cf35",
   "metadata": {
    "ExecuteTime": {
     "end_time": "2022-04-11T15:55:19.873044Z",
     "start_time": "2022-04-11T15:55:19.781094Z"
    }
   },
   "outputs": [
    {
     "data": {
      "text/plain": [
       "30.29379822196717"
      ]
     },
     "execution_count": 19,
     "metadata": {},
     "output_type": "execute_result"
    }
   ],
   "source": [
    "mean_squared_error(y_test,y_ls_pred)"
   ]
  },
  {
   "cell_type": "code",
   "execution_count": 20,
   "id": "3506c533",
   "metadata": {
    "ExecuteTime": {
     "end_time": "2022-04-11T15:55:20.008965Z",
     "start_time": "2022-04-11T15:55:19.881039Z"
    }
   },
   "outputs": [],
   "source": [
    "rd = Ridge()"
   ]
  },
  {
   "cell_type": "code",
   "execution_count": 21,
   "id": "91f1cdc0",
   "metadata": {
    "ExecuteTime": {
     "end_time": "2022-04-11T15:55:20.443325Z",
     "start_time": "2022-04-11T15:55:20.012963Z"
    }
   },
   "outputs": [
    {
     "data": {
      "text/plain": [
       "Ridge()"
      ]
     },
     "execution_count": 21,
     "metadata": {},
     "output_type": "execute_result"
    }
   ],
   "source": [
    "rd.fit(X_train,y_train)"
   ]
  },
  {
   "cell_type": "code",
   "execution_count": 22,
   "id": "9992fca6",
   "metadata": {
    "ExecuteTime": {
     "end_time": "2022-04-11T15:55:20.457314Z",
     "start_time": "2022-04-11T15:55:20.447321Z"
    }
   },
   "outputs": [],
   "source": [
    "y_rd_pred = rd.predict(X_test)"
   ]
  },
  {
   "cell_type": "code",
   "execution_count": 23,
   "id": "9eb4691f",
   "metadata": {
    "ExecuteTime": {
     "end_time": "2022-04-11T15:55:20.646138Z",
     "start_time": "2022-04-11T15:55:20.461312Z"
    }
   },
   "outputs": [
    {
     "data": {
      "text/plain": [
       "19.334416287843627"
      ]
     },
     "execution_count": 23,
     "metadata": {},
     "output_type": "execute_result"
    }
   ],
   "source": [
    "mean_squared_error(y_test,y_rd_pred)"
   ]
  },
  {
   "cell_type": "markdown",
   "id": "0dc14af7",
   "metadata": {},
   "source": [
    "## Manual hyperparameter tuning"
   ]
  },
  {
   "cell_type": "code",
   "execution_count": 24,
   "id": "bf60d7b1",
   "metadata": {
    "ExecuteTime": {
     "end_time": "2022-04-11T15:55:21.037913Z",
     "start_time": "2022-04-11T15:55:20.649137Z"
    }
   },
   "outputs": [
    {
     "name": "stdout",
     "output_type": "stream",
     "text": [
      "The parameter 1 gives mse as : 19.334416287843627\n",
      "The parameter 2 gives mse as : 19.34414257604263\n",
      "The parameter 3 gives mse as : 19.4087161997346\n",
      "The parameter 4 gives mse as : 19.481231131665123\n",
      "The parameter 5 gives mse as : 19.553270684503488\n",
      "The parameter 6 gives mse as : 19.623143690717452\n",
      "The parameter 7 gives mse as : 19.690667750560536\n",
      "The parameter 8 gives mse as : 19.75601602630487\n",
      "The parameter 9 gives mse as : 19.8194222582788\n"
     ]
    }
   ],
   "source": [
    "for i in range(1,10):\n",
    "    rd = Ridge(alpha=i)\n",
    "    rd.fit(X_train,y_train)\n",
    "    y_rd_pred = rd.predict(X_test)\n",
    "    print(f\"The parameter {i} gives mse as :\", mean_squared_error(y_test,y_rd_pred))"
   ]
  },
  {
   "cell_type": "code",
   "execution_count": 25,
   "id": "f70fec16",
   "metadata": {
    "ExecuteTime": {
     "end_time": "2022-04-11T15:55:21.228804Z",
     "start_time": "2022-04-11T15:55:21.042911Z"
    }
   },
   "outputs": [
    {
     "name": "stdout",
     "output_type": "stream",
     "text": [
      "The parameter 1 gives mse as : 30.29379822196717\n",
      "The parameter 2 gives mse as : 35.408678173317455\n",
      "The parameter 3 gives mse as : 38.89068851985193\n",
      "The parameter 4 gives mse as : 40.98078900621156\n",
      "The parameter 5 gives mse as : 41.78563872008822\n",
      "The parameter 6 gives mse as : 42.70060909352538\n",
      "The parameter 7 gives mse as : 43.658204119875215\n",
      "The parameter 8 gives mse as : 44.04998191825928\n",
      "The parameter 9 gives mse as : 44.4826470264785\n"
     ]
    }
   ],
   "source": [
    "for i in range(1,10):\n",
    "    ls = Lasso(alpha=i)\n",
    "    ls.fit(X_train,y_train)\n",
    "    y_ls_pred = ls.predict(X_test)\n",
    "    print(f\"The parameter {i} gives mse as :\", mean_squared_error(y_test,y_ls_pred))"
   ]
  },
  {
   "cell_type": "code",
   "execution_count": 26,
   "id": "ab532478",
   "metadata": {
    "ExecuteTime": {
     "end_time": "2022-04-11T15:55:21.408701Z",
     "start_time": "2022-04-11T15:55:21.233803Z"
    }
   },
   "outputs": [
    {
     "name": "stdout",
     "output_type": "stream",
     "text": [
      "The parameter 1e-15 gives mse as : 19.83132367206312\n",
      "The parameter 1e-08 gives mse as : 19.831323656267212\n",
      "The parameter 0.001 gives mse as : 19.82974665728234\n",
      "The parameter 0.01 gives mse as : 19.8157825107489\n",
      "The parameter 0.1 gives mse as : 19.69619983181413\n",
      "The parameter 0.2 gives mse as : 19.597158060143457\n",
      "The parameter 0.7 gives mse as : 19.372925508852852\n",
      "The parameter 1 gives mse as : 19.334416287843627\n"
     ]
    }
   ],
   "source": [
    "param = [1e-15,1e-8,1e-3,0.01,0.1,0.2,0.7,1]\n",
    "for i in param:\n",
    "    rd = Ridge(alpha=i)\n",
    "    rd.fit(X_train,y_train)\n",
    "    y_rd_pred = rd.predict(X_test)\n",
    "    print(f\"The parameter {i} gives mse as :\", mean_squared_error(y_test,y_rd_pred))"
   ]
  },
  {
   "cell_type": "markdown",
   "id": "a086ea26",
   "metadata": {},
   "source": [
    "# Hyperparameter tuning using grid search cv"
   ]
  },
  {
   "cell_type": "code",
   "execution_count": 27,
   "id": "f81cac80",
   "metadata": {
    "ExecuteTime": {
     "end_time": "2022-04-11T15:55:21.424693Z",
     "start_time": "2022-04-11T15:55:21.412700Z"
    }
   },
   "outputs": [],
   "source": [
    "param = {\"alpha\" : [1e-15,1e-13,1e-11,1e-9,1e-7,1e-5,1e-3,0.001,0.01,0.1,1,2,3,4,5,6,7,8,9,10,20,230,40,50,60,70,80,90,100,200,300,400,500]}"
   ]
  },
  {
   "cell_type": "code",
   "execution_count": 28,
   "id": "505d50d4",
   "metadata": {
    "ExecuteTime": {
     "end_time": "2022-04-11T15:55:21.640569Z",
     "start_time": "2022-04-11T15:55:21.429690Z"
    }
   },
   "outputs": [],
   "source": [
    "model_rd = GridSearchCV(Ridge(),param_grid=param,cv=10)"
   ]
  },
  {
   "cell_type": "code",
   "execution_count": 29,
   "id": "ba0ce035",
   "metadata": {
    "ExecuteTime": {
     "end_time": "2022-04-11T15:55:26.204970Z",
     "start_time": "2022-04-11T15:55:21.644567Z"
    }
   },
   "outputs": [
    {
     "data": {
      "text/plain": [
       "GridSearchCV(cv=10, estimator=Ridge(),\n",
       "             param_grid={'alpha': [1e-15, 1e-13, 1e-11, 1e-09, 1e-07, 1e-05,\n",
       "                                   0.001, 0.001, 0.01, 0.1, 1, 2, 3, 4, 5, 6, 7,\n",
       "                                   8, 9, 10, 20, 230, 40, 50, 60, 70, 80, 90,\n",
       "                                   100, 200, ...]})"
      ]
     },
     "execution_count": 29,
     "metadata": {},
     "output_type": "execute_result"
    }
   ],
   "source": [
    "model_rd.fit(X,y)"
   ]
  },
  {
   "cell_type": "code",
   "execution_count": 30,
   "id": "f8d56f8f",
   "metadata": {
    "ExecuteTime": {
     "end_time": "2022-04-11T15:55:26.219959Z",
     "start_time": "2022-04-11T15:55:26.208966Z"
    }
   },
   "outputs": [
    {
     "data": {
      "text/plain": [
       "{'alpha': 40}"
      ]
     },
     "execution_count": 30,
     "metadata": {},
     "output_type": "execute_result"
    }
   ],
   "source": [
    "model_rd.best_params_"
   ]
  },
  {
   "cell_type": "code",
   "execution_count": 31,
   "id": "e36671d7",
   "metadata": {
    "ExecuteTime": {
     "end_time": "2022-04-11T15:55:26.376874Z",
     "start_time": "2022-04-11T15:55:26.232954Z"
    }
   },
   "outputs": [
    {
     "data": {
      "text/plain": [
       "21.315843588321865"
      ]
     },
     "execution_count": 31,
     "metadata": {},
     "output_type": "execute_result"
    }
   ],
   "source": [
    "rd = Ridge(alpha=40)\n",
    "rd.fit(X_train,y_train)\n",
    "y_rd_pred = rd.predict(X_test)\n",
    "mean_squared_error(y_test,y_rd_pred)"
   ]
  },
  {
   "cell_type": "code",
   "execution_count": 32,
   "id": "e74e4497",
   "metadata": {
    "ExecuteTime": {
     "end_time": "2022-04-11T15:55:26.490805Z",
     "start_time": "2022-04-11T15:55:26.380870Z"
    }
   },
   "outputs": [],
   "source": [
    "model_ls = GridSearchCV(Lasso(),param_grid=param,cv=10)"
   ]
  },
  {
   "cell_type": "code",
   "execution_count": 33,
   "id": "8f85d444",
   "metadata": {
    "ExecuteTime": {
     "end_time": "2022-04-11T15:55:30.292641Z",
     "start_time": "2022-04-11T15:55:26.494802Z"
    }
   },
   "outputs": [
    {
     "data": {
      "text/plain": [
       "GridSearchCV(cv=10, estimator=Lasso(),\n",
       "             param_grid={'alpha': [1e-15, 1e-13, 1e-11, 1e-09, 1e-07, 1e-05,\n",
       "                                   0.001, 0.001, 0.01, 0.1, 1, 2, 3, 4, 5, 6, 7,\n",
       "                                   8, 9, 10, 20, 230, 40, 50, 60, 70, 80, 90,\n",
       "                                   100, 200, ...]})"
      ]
     },
     "execution_count": 33,
     "metadata": {},
     "output_type": "execute_result"
    }
   ],
   "source": [
    "model_ls.fit(X,y)"
   ]
  },
  {
   "cell_type": "code",
   "execution_count": 34,
   "id": "9fe972af",
   "metadata": {
    "ExecuteTime": {
     "end_time": "2022-04-11T15:55:30.312610Z",
     "start_time": "2022-04-11T15:55:30.296620Z"
    }
   },
   "outputs": [
    {
     "data": {
      "text/plain": [
       "{'alpha': 0.1}"
      ]
     },
     "execution_count": 34,
     "metadata": {},
     "output_type": "execute_result"
    }
   ],
   "source": [
    "model_ls.best_params_"
   ]
  },
  {
   "cell_type": "code",
   "execution_count": 35,
   "id": "852a7a45",
   "metadata": {
    "ExecuteTime": {
     "end_time": "2022-04-11T15:55:30.447139Z",
     "start_time": "2022-04-11T15:55:30.321607Z"
    }
   },
   "outputs": [
    {
     "data": {
      "text/plain": [
       "20.22471700674124"
      ]
     },
     "execution_count": 35,
     "metadata": {},
     "output_type": "execute_result"
    }
   ],
   "source": [
    "ls = Lasso(alpha=0.1)\n",
    "ls.fit(X_train,y_train)\n",
    "y_ls_pred = ls.predict(X_test)\n",
    "mean_squared_error(y_test,y_ls_pred)"
   ]
  },
  {
   "cell_type": "code",
   "execution_count": 37,
   "id": "54b99aa0",
   "metadata": {
    "ExecuteTime": {
     "end_time": "2022-04-11T15:58:03.429384Z",
     "start_time": "2022-04-11T15:57:25.956194Z"
    }
   },
   "outputs": [],
   "source": [
    "cv_score = cross_val_score(model_ls, X, y, cv=10)"
   ]
  },
  {
   "cell_type": "code",
   "execution_count": 38,
   "id": "01a364ee",
   "metadata": {
    "ExecuteTime": {
     "end_time": "2022-04-11T15:58:03.447337Z",
     "start_time": "2022-04-11T15:58:03.432343Z"
    }
   },
   "outputs": [
    {
     "data": {
      "text/plain": [
       "array([ 0.53709979,  0.20526252, -0.60331117,  0.04877285,  0.33638098,\n",
       "        0.4584511 , -0.0816218 ,  0.31138236, -0.8308503 ,  0.29459703])"
      ]
     },
     "execution_count": 38,
     "metadata": {},
     "output_type": "execute_result"
    }
   ],
   "source": [
    "cv_score"
   ]
  },
  {
   "cell_type": "code",
   "execution_count": 41,
   "id": "a1dbd5cf",
   "metadata": {
    "ExecuteTime": {
     "end_time": "2022-04-11T15:59:24.217342Z",
     "start_time": "2022-04-11T15:59:24.210345Z"
    }
   },
   "outputs": [
    {
     "data": {
      "text/plain": [
       "0.06761633451476233"
      ]
     },
     "execution_count": 41,
     "metadata": {},
     "output_type": "execute_result"
    }
   ],
   "source": [
    "np.mean(cv_score)"
   ]
  },
  {
   "cell_type": "code",
   "execution_count": 43,
   "id": "c533c85b",
   "metadata": {
    "ExecuteTime": {
     "end_time": "2022-04-11T16:00:36.049813Z",
     "start_time": "2022-04-11T16:00:36.035824Z"
    }
   },
   "outputs": [
    {
     "data": {
      "text/plain": [
       "0.7793374045694275"
      ]
     },
     "execution_count": 43,
     "metadata": {},
     "output_type": "execute_result"
    }
   ],
   "source": [
    "r2_score(y_test,y_ls_pred)"
   ]
  },
  {
   "cell_type": "code",
   "execution_count": null,
   "id": "e42a7a22",
   "metadata": {},
   "outputs": [],
   "source": []
  }
 ],
 "metadata": {
  "kernelspec": {
   "display_name": "Python 3 (ipykernel)",
   "language": "python",
   "name": "python3"
  },
  "language_info": {
   "codemirror_mode": {
    "name": "ipython",
    "version": 3
   },
   "file_extension": ".py",
   "mimetype": "text/x-python",
   "name": "python",
   "nbconvert_exporter": "python",
   "pygments_lexer": "ipython3",
   "version": "3.9.7"
  }
 },
 "nbformat": 4,
 "nbformat_minor": 5
}
