{
 "cells": [
  {
   "cell_type": "code",
   "execution_count": 3,
   "id": "225b2247",
   "metadata": {
    "ExecuteTime": {
     "end_time": "2022-04-11T07:40:00.171893Z",
     "start_time": "2022-04-11T07:40:00.155890Z"
    }
   },
   "outputs": [],
   "source": [
    "import pandas as pd\n",
    "from sklearn.linear_model import LinearRegression\n",
    "from sklearn.model_selection import train_test_split\n",
    "from sklearn.metrics import r2_score\n",
    "from sklearn.preprocessing import PolynomialFeatures"
   ]
  },
  {
   "cell_type": "code",
   "execution_count": 4,
   "id": "ea7c4cc5",
   "metadata": {
    "ExecuteTime": {
     "end_time": "2022-04-11T07:40:01.263642Z",
     "start_time": "2022-04-11T07:40:00.171893Z"
    }
   },
   "outputs": [
    {
     "data": {
      "text/html": [
       "<div>\n",
       "<style scoped>\n",
       "    .dataframe tbody tr th:only-of-type {\n",
       "        vertical-align: middle;\n",
       "    }\n",
       "\n",
       "    .dataframe tbody tr th {\n",
       "        vertical-align: top;\n",
       "    }\n",
       "\n",
       "    .dataframe thead th {\n",
       "        text-align: right;\n",
       "    }\n",
       "</style>\n",
       "<table border=\"1\" class=\"dataframe\">\n",
       "  <thead>\n",
       "    <tr style=\"text-align: right;\">\n",
       "      <th></th>\n",
       "      <th>Report</th>\n",
       "      <th>Herceptin</th>\n",
       "      <th>Doxorubicin</th>\n",
       "    </tr>\n",
       "  </thead>\n",
       "  <tbody>\n",
       "    <tr>\n",
       "      <th>0</th>\n",
       "      <td>18.73178</td>\n",
       "      <td>38.887286</td>\n",
       "      <td>19.912786</td>\n",
       "    </tr>\n",
       "    <tr>\n",
       "      <th>1</th>\n",
       "      <td>18.74178</td>\n",
       "      <td>38.943168</td>\n",
       "      <td>19.928077</td>\n",
       "    </tr>\n",
       "    <tr>\n",
       "      <th>2</th>\n",
       "      <td>18.76178</td>\n",
       "      <td>39.055101</td>\n",
       "      <td>19.958675</td>\n",
       "    </tr>\n",
       "    <tr>\n",
       "      <th>3</th>\n",
       "      <td>18.77178</td>\n",
       "      <td>39.111152</td>\n",
       "      <td>19.973981</td>\n",
       "    </tr>\n",
       "    <tr>\n",
       "      <th>4</th>\n",
       "      <td>18.81780</td>\n",
       "      <td>39.369823</td>\n",
       "      <td>20.044488</td>\n",
       "    </tr>\n",
       "  </tbody>\n",
       "</table>\n",
       "</div>"
      ],
      "text/plain": [
       "     Report  Herceptin  Doxorubicin\n",
       "0  18.73178  38.887286    19.912786\n",
       "1  18.74178  38.943168    19.928077\n",
       "2  18.76178  39.055101    19.958675\n",
       "3  18.77178  39.111152    19.973981\n",
       "4  18.81780  39.369823    20.044488"
      ]
     },
     "execution_count": 4,
     "metadata": {},
     "output_type": "execute_result"
    }
   ],
   "source": [
    "df = pd.read_excel(\"../Cancer Dataset.xlsx\")\n",
    "df.head()"
   ]
  },
  {
   "cell_type": "code",
   "execution_count": 5,
   "id": "e92e36b4",
   "metadata": {
    "ExecuteTime": {
     "end_time": "2022-04-11T07:40:01.584653Z",
     "start_time": "2022-04-11T07:40:01.264654Z"
    }
   },
   "outputs": [
    {
     "data": {
      "text/html": [
       "<div>\n",
       "<style scoped>\n",
       "    .dataframe tbody tr th:only-of-type {\n",
       "        vertical-align: middle;\n",
       "    }\n",
       "\n",
       "    .dataframe tbody tr th {\n",
       "        vertical-align: top;\n",
       "    }\n",
       "\n",
       "    .dataframe thead th {\n",
       "        text-align: right;\n",
       "    }\n",
       "</style>\n",
       "<table border=\"1\" class=\"dataframe\">\n",
       "  <thead>\n",
       "    <tr style=\"text-align: right;\">\n",
       "      <th></th>\n",
       "      <th>Report</th>\n",
       "      <th>Herceptin</th>\n",
       "      <th>Doxorubicin</th>\n",
       "    </tr>\n",
       "  </thead>\n",
       "  <tbody>\n",
       "    <tr>\n",
       "      <th>count</th>\n",
       "      <td>99.000000</td>\n",
       "      <td>99.000000</td>\n",
       "      <td>99.000000</td>\n",
       "    </tr>\n",
       "    <tr>\n",
       "      <th>mean</th>\n",
       "      <td>77.106739</td>\n",
       "      <td>3977.108776</td>\n",
       "      <td>232.467120</td>\n",
       "    </tr>\n",
       "    <tr>\n",
       "      <th>std</th>\n",
       "      <td>37.728147</td>\n",
       "      <td>4381.727371</td>\n",
       "      <td>178.249790</td>\n",
       "    </tr>\n",
       "    <tr>\n",
       "      <th>min</th>\n",
       "      <td>18.731780</td>\n",
       "      <td>38.887286</td>\n",
       "      <td>19.912786</td>\n",
       "    </tr>\n",
       "    <tr>\n",
       "      <th>25%</th>\n",
       "      <td>46.979450</td>\n",
       "      <td>533.097602</td>\n",
       "      <td>83.527326</td>\n",
       "    </tr>\n",
       "    <tr>\n",
       "      <th>50%</th>\n",
       "      <td>77.527120</td>\n",
       "      <td>2352.759239</td>\n",
       "      <td>198.299484</td>\n",
       "    </tr>\n",
       "    <tr>\n",
       "      <th>75%</th>\n",
       "      <td>105.824790</td>\n",
       "      <td>5955.145582</td>\n",
       "      <td>347.247608</td>\n",
       "    </tr>\n",
       "    <tr>\n",
       "      <th>max</th>\n",
       "      <td>144.485350</td>\n",
       "      <td>15118.436139</td>\n",
       "      <td>617.010671</td>\n",
       "    </tr>\n",
       "  </tbody>\n",
       "</table>\n",
       "</div>"
      ],
      "text/plain": [
       "           Report     Herceptin  Doxorubicin\n",
       "count   99.000000     99.000000    99.000000\n",
       "mean    77.106739   3977.108776   232.467120\n",
       "std     37.728147   4381.727371   178.249790\n",
       "min     18.731780     38.887286    19.912786\n",
       "25%     46.979450    533.097602    83.527326\n",
       "50%     77.527120   2352.759239   198.299484\n",
       "75%    105.824790   5955.145582   347.247608\n",
       "max    144.485350  15118.436139   617.010671"
      ]
     },
     "execution_count": 5,
     "metadata": {},
     "output_type": "execute_result"
    }
   ],
   "source": [
    "df.describe()"
   ]
  },
  {
   "cell_type": "code",
   "execution_count": 6,
   "id": "b92bff62",
   "metadata": {
    "ExecuteTime": {
     "end_time": "2022-04-11T07:40:17.964088Z",
     "start_time": "2022-04-11T07:40:17.948088Z"
    }
   },
   "outputs": [
    {
     "data": {
      "text/plain": [
       "Report         0.127887\n",
       "Herceptin      1.126327\n",
       "Doxorubicin    0.654409\n",
       "dtype: float64"
      ]
     },
     "execution_count": 6,
     "metadata": {},
     "output_type": "execute_result"
    }
   ],
   "source": [
    "df.skew()"
   ]
  },
  {
   "cell_type": "code",
   "execution_count": 7,
   "id": "7626cc36",
   "metadata": {
    "ExecuteTime": {
     "end_time": "2022-04-11T07:40:21.569597Z",
     "start_time": "2022-04-11T07:40:21.545591Z"
    }
   },
   "outputs": [
    {
     "data": {
      "text/plain": [
       "Report        -1.108370\n",
       "Herceptin      0.027146\n",
       "Doxorubicin   -0.760904\n",
       "dtype: float64"
      ]
     },
     "execution_count": 7,
     "metadata": {},
     "output_type": "execute_result"
    }
   ],
   "source": [
    "df.kurt()"
   ]
  },
  {
   "cell_type": "code",
   "execution_count": 8,
   "id": "cca81763",
   "metadata": {
    "ExecuteTime": {
     "end_time": "2022-04-11T07:40:38.335303Z",
     "start_time": "2022-04-11T07:40:38.311007Z"
    }
   },
   "outputs": [
    {
     "data": {
      "text/plain": [
       "(99, 3)"
      ]
     },
     "execution_count": 8,
     "metadata": {},
     "output_type": "execute_result"
    }
   ],
   "source": [
    "df.shape"
   ]
  },
  {
   "cell_type": "code",
   "execution_count": 9,
   "id": "178a9ee4",
   "metadata": {
    "ExecuteTime": {
     "end_time": "2022-04-11T07:40:44.854639Z",
     "start_time": "2022-04-11T07:40:44.830641Z"
    }
   },
   "outputs": [],
   "source": [
    "x = df[[\"Report\"]]\n",
    "y = df[[\"Herceptin\"]]"
   ]
  },
  {
   "cell_type": "code",
   "execution_count": 10,
   "id": "cce26bb4",
   "metadata": {
    "ExecuteTime": {
     "end_time": "2022-04-11T07:40:48.722139Z",
     "start_time": "2022-04-11T07:40:48.706117Z"
    }
   },
   "outputs": [],
   "source": [
    "x_train, x_test, y_train, y_test = train_test_split(x, y, test_size=0.1, random_state=1)"
   ]
  },
  {
   "cell_type": "code",
   "execution_count": 11,
   "id": "c2fb00ce",
   "metadata": {
    "ExecuteTime": {
     "end_time": "2022-04-11T07:40:51.759321Z",
     "start_time": "2022-04-11T07:40:51.751316Z"
    }
   },
   "outputs": [],
   "source": [
    "model = LinearRegression()"
   ]
  },
  {
   "cell_type": "code",
   "execution_count": 12,
   "id": "bf982738",
   "metadata": {
    "ExecuteTime": {
     "end_time": "2022-04-11T07:40:57.539396Z",
     "start_time": "2022-04-11T07:40:56.523421Z"
    }
   },
   "outputs": [
    {
     "data": {
      "text/plain": [
       "LinearRegression()"
      ]
     },
     "execution_count": 12,
     "metadata": {},
     "output_type": "execute_result"
    }
   ],
   "source": [
    "model.fit(x_train,y_train)"
   ]
  },
  {
   "cell_type": "code",
   "execution_count": 13,
   "id": "7d924291",
   "metadata": {
    "ExecuteTime": {
     "end_time": "2022-04-11T07:41:14.846268Z",
     "start_time": "2022-04-11T07:41:14.830248Z"
    }
   },
   "outputs": [],
   "source": [
    "y_pred = model.predict(x_test)"
   ]
  },
  {
   "cell_type": "code",
   "execution_count": 14,
   "id": "cc5e99ad",
   "metadata": {
    "ExecuteTime": {
     "end_time": "2022-04-11T07:41:18.467295Z",
     "start_time": "2022-04-11T07:41:18.427290Z"
    }
   },
   "outputs": [
    {
     "data": {
      "text/plain": [
       "0.912250367079904"
      ]
     },
     "execution_count": 14,
     "metadata": {},
     "output_type": "execute_result"
    }
   ],
   "source": [
    "r2_score(y_test,y_pred)"
   ]
  },
  {
   "cell_type": "code",
   "execution_count": 15,
   "id": "69e17f6b",
   "metadata": {
    "ExecuteTime": {
     "end_time": "2022-04-11T07:41:45.635340Z",
     "start_time": "2022-04-11T07:41:45.619336Z"
    }
   },
   "outputs": [],
   "source": [
    "x1 = df[[\"Report\"]]\n",
    "y1 = df[[\"Doxorubicin\"]]"
   ]
  },
  {
   "cell_type": "code",
   "execution_count": 16,
   "id": "34771049",
   "metadata": {
    "ExecuteTime": {
     "end_time": "2022-04-11T07:42:14.175895Z",
     "start_time": "2022-04-11T07:42:14.151893Z"
    }
   },
   "outputs": [],
   "source": [
    "x1_train, x1_test, y1_train, y1_test = train_test_split(x1, y1, test_size=0.1, random_state=1)"
   ]
  },
  {
   "cell_type": "code",
   "execution_count": 17,
   "id": "dca2947a",
   "metadata": {
    "ExecuteTime": {
     "end_time": "2022-04-11T07:42:19.982410Z",
     "start_time": "2022-04-11T07:42:19.958389Z"
    }
   },
   "outputs": [],
   "source": [
    "model1 = LinearRegression()"
   ]
  },
  {
   "cell_type": "code",
   "execution_count": 18,
   "id": "a23c04de",
   "metadata": {
    "ExecuteTime": {
     "end_time": "2022-04-11T07:42:36.888843Z",
     "start_time": "2022-04-11T07:42:36.864809Z"
    }
   },
   "outputs": [
    {
     "data": {
      "text/plain": [
       "LinearRegression()"
      ]
     },
     "execution_count": 18,
     "metadata": {},
     "output_type": "execute_result"
    }
   ],
   "source": [
    "model1.fit(x1_train,y1_train)"
   ]
  },
  {
   "cell_type": "code",
   "execution_count": 19,
   "id": "e7840105",
   "metadata": {
    "ExecuteTime": {
     "end_time": "2022-04-11T07:43:08.660037Z",
     "start_time": "2022-04-11T07:43:08.636015Z"
    }
   },
   "outputs": [],
   "source": [
    "y1_pred = model1.predict(x1_test)"
   ]
  },
  {
   "cell_type": "code",
   "execution_count": 20,
   "id": "e9d9eae8",
   "metadata": {
    "ExecuteTime": {
     "end_time": "2022-04-11T07:43:28.053455Z",
     "start_time": "2022-04-11T07:43:28.037453Z"
    }
   },
   "outputs": [
    {
     "data": {
      "text/plain": [
       "0.9735886094081507"
      ]
     },
     "execution_count": 20,
     "metadata": {},
     "output_type": "execute_result"
    }
   ],
   "source": [
    "r2_score(y1_test,y1_pred)"
   ]
  },
  {
   "cell_type": "markdown",
   "id": "75c40f7c",
   "metadata": {},
   "source": [
    "## Polynomial transformation"
   ]
  },
  {
   "cell_type": "code",
   "execution_count": 21,
   "id": "ef2a0368",
   "metadata": {
    "ExecuteTime": {
     "end_time": "2022-04-11T07:43:52.252678Z",
     "start_time": "2022-04-11T07:43:52.244677Z"
    }
   },
   "outputs": [],
   "source": [
    "poly = PolynomialFeatures(degree=2)"
   ]
  },
  {
   "cell_type": "code",
   "execution_count": 22,
   "id": "0a23b8e8",
   "metadata": {
    "ExecuteTime": {
     "end_time": "2022-04-11T07:44:46.999969Z",
     "start_time": "2022-04-11T07:44:46.975905Z"
    }
   },
   "outputs": [],
   "source": [
    "x_poly = poly.fit_transform(x)"
   ]
  },
  {
   "cell_type": "code",
   "execution_count": 23,
   "id": "a2594347",
   "metadata": {
    "ExecuteTime": {
     "end_time": "2022-04-11T07:44:58.419132Z",
     "start_time": "2022-04-11T07:44:58.395110Z"
    }
   },
   "outputs": [
    {
     "data": {
      "text/html": [
       "<div>\n",
       "<style scoped>\n",
       "    .dataframe tbody tr th:only-of-type {\n",
       "        vertical-align: middle;\n",
       "    }\n",
       "\n",
       "    .dataframe tbody tr th {\n",
       "        vertical-align: top;\n",
       "    }\n",
       "\n",
       "    .dataframe thead th {\n",
       "        text-align: right;\n",
       "    }\n",
       "</style>\n",
       "<table border=\"1\" class=\"dataframe\">\n",
       "  <thead>\n",
       "    <tr style=\"text-align: right;\">\n",
       "      <th></th>\n",
       "      <th>Report</th>\n",
       "    </tr>\n",
       "  </thead>\n",
       "  <tbody>\n",
       "    <tr>\n",
       "      <th>0</th>\n",
       "      <td>18.73178</td>\n",
       "    </tr>\n",
       "    <tr>\n",
       "      <th>1</th>\n",
       "      <td>18.74178</td>\n",
       "    </tr>\n",
       "    <tr>\n",
       "      <th>2</th>\n",
       "      <td>18.76178</td>\n",
       "    </tr>\n",
       "    <tr>\n",
       "      <th>3</th>\n",
       "      <td>18.77178</td>\n",
       "    </tr>\n",
       "    <tr>\n",
       "      <th>4</th>\n",
       "      <td>18.81780</td>\n",
       "    </tr>\n",
       "  </tbody>\n",
       "</table>\n",
       "</div>"
      ],
      "text/plain": [
       "     Report\n",
       "0  18.73178\n",
       "1  18.74178\n",
       "2  18.76178\n",
       "3  18.77178\n",
       "4  18.81780"
      ]
     },
     "execution_count": 23,
     "metadata": {},
     "output_type": "execute_result"
    }
   ],
   "source": [
    "x.head()"
   ]
  },
  {
   "cell_type": "code",
   "execution_count": 24,
   "id": "4c7e5e8e",
   "metadata": {
    "ExecuteTime": {
     "end_time": "2022-04-11T07:45:10.653521Z",
     "start_time": "2022-04-11T07:45:10.645514Z"
    }
   },
   "outputs": [
    {
     "data": {
      "text/plain": [
       "(99, 1)"
      ]
     },
     "execution_count": 24,
     "metadata": {},
     "output_type": "execute_result"
    }
   ],
   "source": [
    "x.shape"
   ]
  },
  {
   "cell_type": "code",
   "execution_count": 25,
   "id": "6af28bac",
   "metadata": {
    "ExecuteTime": {
     "end_time": "2022-04-11T07:45:22.231994Z",
     "start_time": "2022-04-11T07:45:22.207992Z"
    },
    "scrolled": false
   },
   "outputs": [
    {
     "data": {
      "text/plain": [
       "array([[1.00000000e+00, 1.87317800e+01, 3.50879582e+02],\n",
       "       [1.00000000e+00, 1.87417800e+01, 3.51254318e+02],\n",
       "       [1.00000000e+00, 1.87617800e+01, 3.52004389e+02],\n",
       "       [1.00000000e+00, 1.87717800e+01, 3.52379724e+02],\n",
       "       [1.00000000e+00, 1.88178000e+01, 3.54109597e+02],\n",
       "       [1.00000000e+00, 2.07317800e+01, 4.29806702e+02],\n",
       "       [1.00000000e+00, 2.20976700e+01, 4.88307019e+02],\n",
       "       [1.00000000e+00, 2.30976700e+01, 5.33502359e+02],\n",
       "       [1.00000000e+00, 2.60976700e+01, 6.81088379e+02],\n",
       "       [1.00000000e+00, 2.70976700e+01, 7.34283719e+02],\n",
       "       [1.00000000e+00, 2.71976700e+01, 7.39713253e+02],\n",
       "       [1.00000000e+00, 2.76976700e+01, 7.67160923e+02],\n",
       "       [1.00000000e+00, 2.80976700e+01, 7.89479059e+02],\n",
       "       [1.00000000e+00, 3.00976700e+01, 9.05869739e+02],\n",
       "       [1.00000000e+00, 3.14635600e+01, 9.89955608e+02],\n",
       "       [1.00000000e+00, 3.24635600e+01, 1.05388273e+03],\n",
       "       [1.00000000e+00, 3.34635600e+01, 1.11980985e+03],\n",
       "       [1.00000000e+00, 3.44635600e+01, 1.18773697e+03],\n",
       "       [1.00000000e+00, 3.54635600e+01, 1.25766409e+03],\n",
       "       [1.00000000e+00, 3.57635600e+01, 1.27903222e+03],\n",
       "       [1.00000000e+00, 3.61635600e+01, 1.30780307e+03],\n",
       "       [1.00000000e+00, 3.62535600e+01, 1.31432061e+03],\n",
       "       [1.00000000e+00, 3.69635600e+01, 1.36630477e+03],\n",
       "       [1.00000000e+00, 3.74635600e+01, 1.40351833e+03],\n",
       "       [1.00000000e+00, 4.68294500e+01, 2.19299739e+03],\n",
       "       [1.00000000e+00, 4.71294500e+01, 2.22118506e+03],\n",
       "       [1.00000000e+00, 4.85694500e+01, 2.35899147e+03],\n",
       "       [1.00000000e+00, 4.98294500e+01, 2.48297409e+03],\n",
       "       [1.00000000e+00, 5.09294500e+01, 2.59380888e+03],\n",
       "       [1.00000000e+00, 5.18294500e+01, 2.68629189e+03],\n",
       "       [1.00000000e+00, 5.38294500e+01, 2.89760969e+03],\n",
       "       [1.00000000e+00, 5.61953400e+01, 3.15791624e+03],\n",
       "       [1.00000000e+00, 5.72353400e+01, 3.27588414e+03],\n",
       "       [1.00000000e+00, 5.81963400e+01, 3.38681399e+03],\n",
       "       [1.00000000e+00, 5.89953400e+01, 3.48045014e+03],\n",
       "       [1.00000000e+00, 5.91953400e+01, 3.50408828e+03],\n",
       "       [1.00000000e+00, 6.01568340e+01, 3.61884468e+03],\n",
       "       [1.00000000e+00, 6.21583400e+01, 3.86365923e+03],\n",
       "       [1.00000000e+00, 6.55612300e+01, 4.29827488e+03],\n",
       "       [1.00000000e+00, 6.67812300e+01, 4.45973268e+03],\n",
       "       [1.00000000e+00, 6.78952300e+01, 4.60976226e+03],\n",
       "       [1.00000000e+00, 6.79612300e+01, 4.61872878e+03],\n",
       "       [1.00000000e+00, 6.89892300e+01, 4.75951386e+03],\n",
       "       [1.00000000e+00, 7.05612300e+01, 4.97888718e+03],\n",
       "       [1.00000000e+00, 7.29812300e+01, 5.32625993e+03],\n",
       "       [1.00000000e+00, 7.49271200e+01, 5.61407331e+03],\n",
       "       [1.00000000e+00, 7.52271200e+01, 5.65911958e+03],\n",
       "       [1.00000000e+00, 7.65671200e+01, 5.86252387e+03],\n",
       "       [1.00000000e+00, 7.71271200e+01, 5.94859264e+03],\n",
       "       [1.00000000e+00, 7.75271200e+01, 6.01045434e+03],\n",
       "       [1.00000000e+00, 7.77271200e+01, 6.04150518e+03],\n",
       "       [1.00000000e+00, 7.81071200e+01, 6.10072219e+03],\n",
       "       [1.00000000e+00, 7.82571200e+01, 6.12417683e+03],\n",
       "       [1.00000000e+00, 7.82597120e+01, 6.12458252e+03],\n",
       "       [1.00000000e+00, 7.89291200e+01, 6.22980598e+03],\n",
       "       [1.00000000e+00, 8.09271200e+01, 6.54919875e+03],\n",
       "       [1.00000000e+00, 8.16271200e+01, 6.66298672e+03],\n",
       "       [1.00000000e+00, 8.17271200e+01, 6.67932214e+03],\n",
       "       [1.00000000e+00, 8.18271200e+01, 6.69567757e+03],\n",
       "       [1.00000000e+00, 8.42930100e+01, 7.10531153e+03],\n",
       "       [1.00000000e+00, 8.58301000e+01, 7.36680607e+03],\n",
       "       [1.00000000e+00, 8.69301000e+01, 7.55684229e+03],\n",
       "       [1.00000000e+00, 8.77301000e+01, 7.69657045e+03],\n",
       "       [1.00000000e+00, 8.82830100e+01, 7.79388985e+03],\n",
       "       [1.00000000e+00, 9.01930100e+01, 8.13477905e+03],\n",
       "       [1.00000000e+00, 9.36589000e+01, 8.77198955e+03],\n",
       "       [1.00000000e+00, 9.46589000e+01, 8.96030735e+03],\n",
       "       [1.00000000e+00, 9.55589000e+01, 9.13150337e+03],\n",
       "       [1.00000000e+00, 9.69589000e+01, 9.40102829e+03],\n",
       "       [1.00000000e+00, 9.76989000e+01, 9.54507506e+03],\n",
       "       [1.00000000e+00, 1.03024790e+02, 1.06141074e+04],\n",
       "       [1.00000000e+00, 1.05124790e+02, 1.10512215e+04],\n",
       "       [1.00000000e+00, 1.05524790e+02, 1.11354813e+04],\n",
       "       [1.00000000e+00, 1.05724790e+02, 1.11777312e+04],\n",
       "       [1.00000000e+00, 1.05924790e+02, 1.12200611e+04],\n",
       "       [1.00000000e+00, 1.09364790e+02, 1.19606573e+04],\n",
       "       [1.00000000e+00, 1.10024790e+02, 1.21054544e+04],\n",
       "       [1.00000000e+00, 1.12390680e+02, 1.26316650e+04],\n",
       "       [1.00000000e+00, 1.18590680e+02, 1.40637494e+04],\n",
       "       [1.00000000e+00, 1.21756570e+02, 1.48246623e+04],\n",
       "       [1.00000000e+00, 1.21656570e+02, 1.48003210e+04],\n",
       "       [1.00000000e+00, 1.22556570e+02, 1.50201129e+04],\n",
       "       [1.00000000e+00, 1.23856570e+02, 1.53404499e+04],\n",
       "       [1.00000000e+00, 1.24695700e+02, 1.55490176e+04],\n",
       "       [1.00000000e+00, 1.25256570e+02, 1.56892083e+04],\n",
       "       [1.00000000e+00, 1.26565700e+02, 1.60188764e+04],\n",
       "       [1.00000000e+00, 1.27756570e+02, 1.63217412e+04],\n",
       "       [1.00000000e+00, 1.28866570e+02, 1.66065929e+04],\n",
       "       [1.00000000e+00, 1.30756570e+02, 1.70972806e+04],\n",
       "       [1.00000000e+00, 1.31122460e+02, 1.71930995e+04],\n",
       "       [1.00000000e+00, 1.33782460e+02, 1.78977466e+04],\n",
       "       [1.00000000e+00, 1.34522460e+02, 1.80962922e+04],\n",
       "       [1.00000000e+00, 1.36582460e+02, 1.86547684e+04],\n",
       "       [1.00000000e+00, 1.40488350e+02, 1.97369765e+04],\n",
       "       [1.00000000e+00, 1.40568350e+02, 1.97594610e+04],\n",
       "       [1.00000000e+00, 1.40638350e+02, 1.97791455e+04],\n",
       "       [1.00000000e+00, 1.41258350e+02, 1.99539214e+04],\n",
       "       [1.00000000e+00, 1.42368350e+02, 2.02687471e+04],\n",
       "       [1.00000000e+00, 1.44485350e+02, 2.08760164e+04]])"
      ]
     },
     "execution_count": 25,
     "metadata": {},
     "output_type": "execute_result"
    }
   ],
   "source": [
    "x_poly # Output format - c, x, x^2 (Degree 2 polynomial equation = x^2 + x + c = y)"
   ]
  },
  {
   "cell_type": "code",
   "execution_count": 26,
   "id": "d1947eed",
   "metadata": {
    "ExecuteTime": {
     "end_time": "2022-04-11T07:45:47.256580Z",
     "start_time": "2022-04-11T07:45:47.240598Z"
    }
   },
   "outputs": [
    {
     "data": {
      "text/plain": [
       "(99, 3)"
      ]
     },
     "execution_count": 26,
     "metadata": {},
     "output_type": "execute_result"
    }
   ],
   "source": [
    "x_poly.shape"
   ]
  },
  {
   "cell_type": "code",
   "execution_count": 27,
   "id": "675be676",
   "metadata": {
    "ExecuteTime": {
     "end_time": "2022-04-11T07:49:18.822608Z",
     "start_time": "2022-04-11T07:49:18.798605Z"
    }
   },
   "outputs": [],
   "source": [
    "x_poly_train, x_poly_test, y_train, y_test = train_test_split(x_poly, y, test_size=0.1, random_state=1)"
   ]
  },
  {
   "cell_type": "code",
   "execution_count": 28,
   "id": "91a45722",
   "metadata": {
    "ExecuteTime": {
     "end_time": "2022-04-11T07:49:46.985513Z",
     "start_time": "2022-04-11T07:49:46.727978Z"
    }
   },
   "outputs": [
    {
     "data": {
      "text/plain": [
       "LinearRegression()"
      ]
     },
     "execution_count": 28,
     "metadata": {},
     "output_type": "execute_result"
    }
   ],
   "source": [
    "model.fit(x_poly_train,y_train)"
   ]
  },
  {
   "cell_type": "code",
   "execution_count": 30,
   "id": "db300028",
   "metadata": {
    "ExecuteTime": {
     "end_time": "2022-04-11T07:52:05.908078Z",
     "start_time": "2022-04-11T07:52:05.844059Z"
    }
   },
   "outputs": [],
   "source": [
    "y_pred = model.predict(x_poly_test)"
   ]
  },
  {
   "cell_type": "code",
   "execution_count": 31,
   "id": "26525e3d",
   "metadata": {
    "ExecuteTime": {
     "end_time": "2022-04-11T07:53:36.130068Z",
     "start_time": "2022-04-11T07:53:36.106062Z"
    }
   },
   "outputs": [
    {
     "data": {
      "text/plain": [
       "0.9984884890269637"
      ]
     },
     "execution_count": 31,
     "metadata": {},
     "output_type": "execute_result"
    }
   ],
   "source": [
    "r2_score(y_test,y_pred)"
   ]
  },
  {
   "cell_type": "code",
   "execution_count": 32,
   "id": "b6c1cccc",
   "metadata": {
    "ExecuteTime": {
     "end_time": "2022-04-11T08:17:11.523906Z",
     "start_time": "2022-04-11T08:17:11.491911Z"
    }
   },
   "outputs": [
    {
     "data": {
      "text/plain": [
       "1.0"
      ]
     },
     "execution_count": 32,
     "metadata": {},
     "output_type": "execute_result"
    }
   ],
   "source": [
    "x_poly_train, x_poly_test, y1_train, y1_test = train_test_split(x_poly, y1, test_size=0.1, random_state=1)\n",
    "model1.fit(x_poly_train,y1_train)\n",
    "y1_pred = model1.predict(x_poly_test)\n",
    "r2_score(y1_test,y1_pred)"
   ]
  },
  {
   "cell_type": "code",
   "execution_count": null,
   "id": "196f0d9a",
   "metadata": {},
   "outputs": [],
   "source": []
  }
 ],
 "metadata": {
  "kernelspec": {
   "display_name": "Python 3 (ipykernel)",
   "language": "python",
   "name": "python3"
  },
  "language_info": {
   "codemirror_mode": {
    "name": "ipython",
    "version": 3
   },
   "file_extension": ".py",
   "mimetype": "text/x-python",
   "name": "python",
   "nbconvert_exporter": "python",
   "pygments_lexer": "ipython3",
   "version": "3.9.7"
  }
 },
 "nbformat": 4,
 "nbformat_minor": 5
}
