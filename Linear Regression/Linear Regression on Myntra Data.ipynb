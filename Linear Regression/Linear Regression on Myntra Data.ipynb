{
 "cells": [
  {
   "cell_type": "code",
   "execution_count": 27,
   "id": "d9e91318",
   "metadata": {
    "ExecuteTime": {
     "end_time": "2022-04-11T08:51:17.531537Z",
     "start_time": "2022-04-11T08:51:17.515518Z"
    }
   },
   "outputs": [],
   "source": [
    "import pandas as pd\n",
    "import numpy as np\n",
    "from sklearn.linear_model import LinearRegression\n",
    "from sklearn.model_selection import train_test_split\n",
    "from sklearn.metrics import r2_score"
   ]
  },
  {
   "cell_type": "code",
   "execution_count": 28,
   "id": "5ef9e4ff",
   "metadata": {
    "ExecuteTime": {
     "end_time": "2022-04-11T08:51:21.258693Z",
     "start_time": "2022-04-11T08:51:21.210693Z"
    }
   },
   "outputs": [
    {
     "data": {
      "text/html": [
       "<div>\n",
       "<style scoped>\n",
       "    .dataframe tbody tr th:only-of-type {\n",
       "        vertical-align: middle;\n",
       "    }\n",
       "\n",
       "    .dataframe tbody tr th {\n",
       "        vertical-align: top;\n",
       "    }\n",
       "\n",
       "    .dataframe thead th {\n",
       "        text-align: right;\n",
       "    }\n",
       "</style>\n",
       "<table border=\"1\" class=\"dataframe\">\n",
       "  <thead>\n",
       "    <tr style=\"text-align: right;\">\n",
       "      <th></th>\n",
       "      <th>Time (Mins)</th>\n",
       "      <th>Recall Rate</th>\n",
       "    </tr>\n",
       "  </thead>\n",
       "  <tbody>\n",
       "    <tr>\n",
       "      <th>0</th>\n",
       "      <td>1</td>\n",
       "      <td>0.84</td>\n",
       "    </tr>\n",
       "    <tr>\n",
       "      <th>1</th>\n",
       "      <td>5</td>\n",
       "      <td>0.71</td>\n",
       "    </tr>\n",
       "    <tr>\n",
       "      <th>2</th>\n",
       "      <td>15</td>\n",
       "      <td>0.61</td>\n",
       "    </tr>\n",
       "    <tr>\n",
       "      <th>3</th>\n",
       "      <td>30</td>\n",
       "      <td>0.56</td>\n",
       "    </tr>\n",
       "    <tr>\n",
       "      <th>4</th>\n",
       "      <td>60</td>\n",
       "      <td>0.54</td>\n",
       "    </tr>\n",
       "  </tbody>\n",
       "</table>\n",
       "</div>"
      ],
      "text/plain": [
       "   Time (Mins)  Recall Rate\n",
       "0            1         0.84\n",
       "1            5         0.71\n",
       "2           15         0.61\n",
       "3           30         0.56\n",
       "4           60         0.54"
      ]
     },
     "execution_count": 28,
     "metadata": {},
     "output_type": "execute_result"
    }
   ],
   "source": [
    "df = pd.read_excel(\"../Myntra Raw Data.xlsx\")\n",
    "df.head()"
   ]
  },
  {
   "cell_type": "code",
   "execution_count": 29,
   "id": "b1d03cc3",
   "metadata": {
    "ExecuteTime": {
     "end_time": "2022-04-11T08:51:25.171497Z",
     "start_time": "2022-04-11T08:51:25.131497Z"
    }
   },
   "outputs": [
    {
     "data": {
      "text/html": [
       "<div>\n",
       "<style scoped>\n",
       "    .dataframe tbody tr th:only-of-type {\n",
       "        vertical-align: middle;\n",
       "    }\n",
       "\n",
       "    .dataframe tbody tr th {\n",
       "        vertical-align: top;\n",
       "    }\n",
       "\n",
       "    .dataframe thead th {\n",
       "        text-align: right;\n",
       "    }\n",
       "</style>\n",
       "<table border=\"1\" class=\"dataframe\">\n",
       "  <thead>\n",
       "    <tr style=\"text-align: right;\">\n",
       "      <th></th>\n",
       "      <th>Time (Mins)</th>\n",
       "      <th>Recall Rate</th>\n",
       "    </tr>\n",
       "  </thead>\n",
       "  <tbody>\n",
       "    <tr>\n",
       "      <th>count</th>\n",
       "      <td>13.000000</td>\n",
       "      <td>13.000000</td>\n",
       "    </tr>\n",
       "    <tr>\n",
       "      <th>mean</th>\n",
       "      <td>1679.307692</td>\n",
       "      <td>0.432308</td>\n",
       "    </tr>\n",
       "    <tr>\n",
       "      <th>std</th>\n",
       "      <td>3018.230508</td>\n",
       "      <td>0.222567</td>\n",
       "    </tr>\n",
       "    <tr>\n",
       "      <th>min</th>\n",
       "      <td>1.000000</td>\n",
       "      <td>0.080000</td>\n",
       "    </tr>\n",
       "    <tr>\n",
       "      <th>25%</th>\n",
       "      <td>30.000000</td>\n",
       "      <td>0.260000</td>\n",
       "    </tr>\n",
       "    <tr>\n",
       "      <th>50%</th>\n",
       "      <td>240.000000</td>\n",
       "      <td>0.450000</td>\n",
       "    </tr>\n",
       "    <tr>\n",
       "      <th>75%</th>\n",
       "      <td>1440.000000</td>\n",
       "      <td>0.560000</td>\n",
       "    </tr>\n",
       "    <tr>\n",
       "      <th>max</th>\n",
       "      <td>10080.000000</td>\n",
       "      <td>0.840000</td>\n",
       "    </tr>\n",
       "  </tbody>\n",
       "</table>\n",
       "</div>"
      ],
      "text/plain": [
       "        Time (Mins)  Recall Rate\n",
       "count     13.000000    13.000000\n",
       "mean    1679.307692     0.432308\n",
       "std     3018.230508     0.222567\n",
       "min        1.000000     0.080000\n",
       "25%       30.000000     0.260000\n",
       "50%      240.000000     0.450000\n",
       "75%     1440.000000     0.560000\n",
       "max    10080.000000     0.840000"
      ]
     },
     "execution_count": 29,
     "metadata": {},
     "output_type": "execute_result"
    }
   ],
   "source": [
    "df.describe()"
   ]
  },
  {
   "cell_type": "code",
   "execution_count": 30,
   "id": "0c746da5",
   "metadata": {
    "ExecuteTime": {
     "end_time": "2022-04-11T08:51:31.420211Z",
     "start_time": "2022-04-11T08:51:31.396208Z"
    }
   },
   "outputs": [
    {
     "data": {
      "text/plain": [
       "Time (Mins)    4.896013\n",
       "Recall Rate   -0.572419\n",
       "dtype: float64"
      ]
     },
     "execution_count": 30,
     "metadata": {},
     "output_type": "execute_result"
    }
   ],
   "source": [
    "df.kurt()"
   ]
  },
  {
   "cell_type": "code",
   "execution_count": 31,
   "id": "ab4bbe64",
   "metadata": {
    "ExecuteTime": {
     "end_time": "2022-04-11T08:51:43.734246Z",
     "start_time": "2022-04-11T08:51:43.702249Z"
    }
   },
   "outputs": [
    {
     "data": {
      "text/plain": [
       "Time (Mins)    2.257935\n",
       "Recall Rate    0.143672\n",
       "dtype: float64"
      ]
     },
     "execution_count": 31,
     "metadata": {},
     "output_type": "execute_result"
    }
   ],
   "source": [
    "df.skew()"
   ]
  },
  {
   "cell_type": "code",
   "execution_count": 33,
   "id": "34c60405",
   "metadata": {
    "ExecuteTime": {
     "end_time": "2022-04-11T08:52:50.120120Z",
     "start_time": "2022-04-11T08:52:50.109129Z"
    }
   },
   "outputs": [],
   "source": [
    "df[\"Log of Time\"] = np.log(df[\"Time (Mins)\"])"
   ]
  },
  {
   "cell_type": "code",
   "execution_count": 34,
   "id": "68f75d2d",
   "metadata": {
    "ExecuteTime": {
     "end_time": "2022-04-11T08:52:52.888397Z",
     "start_time": "2022-04-11T08:52:52.865410Z"
    }
   },
   "outputs": [
    {
     "data": {
      "text/html": [
       "<div>\n",
       "<style scoped>\n",
       "    .dataframe tbody tr th:only-of-type {\n",
       "        vertical-align: middle;\n",
       "    }\n",
       "\n",
       "    .dataframe tbody tr th {\n",
       "        vertical-align: top;\n",
       "    }\n",
       "\n",
       "    .dataframe thead th {\n",
       "        text-align: right;\n",
       "    }\n",
       "</style>\n",
       "<table border=\"1\" class=\"dataframe\">\n",
       "  <thead>\n",
       "    <tr style=\"text-align: right;\">\n",
       "      <th></th>\n",
       "      <th>Time (Mins)</th>\n",
       "      <th>Recall Rate</th>\n",
       "      <th>Log of Time</th>\n",
       "    </tr>\n",
       "  </thead>\n",
       "  <tbody>\n",
       "    <tr>\n",
       "      <th>0</th>\n",
       "      <td>1</td>\n",
       "      <td>0.84</td>\n",
       "      <td>0.000000</td>\n",
       "    </tr>\n",
       "    <tr>\n",
       "      <th>1</th>\n",
       "      <td>5</td>\n",
       "      <td>0.71</td>\n",
       "      <td>1.609438</td>\n",
       "    </tr>\n",
       "    <tr>\n",
       "      <th>2</th>\n",
       "      <td>15</td>\n",
       "      <td>0.61</td>\n",
       "      <td>2.708050</td>\n",
       "    </tr>\n",
       "    <tr>\n",
       "      <th>3</th>\n",
       "      <td>30</td>\n",
       "      <td>0.56</td>\n",
       "      <td>3.401197</td>\n",
       "    </tr>\n",
       "    <tr>\n",
       "      <th>4</th>\n",
       "      <td>60</td>\n",
       "      <td>0.54</td>\n",
       "      <td>4.094345</td>\n",
       "    </tr>\n",
       "    <tr>\n",
       "      <th>5</th>\n",
       "      <td>120</td>\n",
       "      <td>0.47</td>\n",
       "      <td>4.787492</td>\n",
       "    </tr>\n",
       "    <tr>\n",
       "      <th>6</th>\n",
       "      <td>240</td>\n",
       "      <td>0.45</td>\n",
       "      <td>5.480639</td>\n",
       "    </tr>\n",
       "    <tr>\n",
       "      <th>7</th>\n",
       "      <td>480</td>\n",
       "      <td>0.38</td>\n",
       "      <td>6.173786</td>\n",
       "    </tr>\n",
       "    <tr>\n",
       "      <th>8</th>\n",
       "      <td>720</td>\n",
       "      <td>0.36</td>\n",
       "      <td>6.579251</td>\n",
       "    </tr>\n",
       "    <tr>\n",
       "      <th>9</th>\n",
       "      <td>1440</td>\n",
       "      <td>0.26</td>\n",
       "      <td>7.272398</td>\n",
       "    </tr>\n",
       "    <tr>\n",
       "      <th>10</th>\n",
       "      <td>2880</td>\n",
       "      <td>0.20</td>\n",
       "      <td>7.965546</td>\n",
       "    </tr>\n",
       "    <tr>\n",
       "      <th>11</th>\n",
       "      <td>5760</td>\n",
       "      <td>0.16</td>\n",
       "      <td>8.658693</td>\n",
       "    </tr>\n",
       "    <tr>\n",
       "      <th>12</th>\n",
       "      <td>10080</td>\n",
       "      <td>0.08</td>\n",
       "      <td>9.218309</td>\n",
       "    </tr>\n",
       "  </tbody>\n",
       "</table>\n",
       "</div>"
      ],
      "text/plain": [
       "    Time (Mins)  Recall Rate  Log of Time\n",
       "0             1         0.84     0.000000\n",
       "1             5         0.71     1.609438\n",
       "2            15         0.61     2.708050\n",
       "3            30         0.56     3.401197\n",
       "4            60         0.54     4.094345\n",
       "5           120         0.47     4.787492\n",
       "6           240         0.45     5.480639\n",
       "7           480         0.38     6.173786\n",
       "8           720         0.36     6.579251\n",
       "9          1440         0.26     7.272398\n",
       "10         2880         0.20     7.965546\n",
       "11         5760         0.16     8.658693\n",
       "12        10080         0.08     9.218309"
      ]
     },
     "execution_count": 34,
     "metadata": {},
     "output_type": "execute_result"
    }
   ],
   "source": [
    "df"
   ]
  },
  {
   "cell_type": "code",
   "execution_count": 35,
   "id": "90b1ef2b",
   "metadata": {
    "ExecuteTime": {
     "end_time": "2022-04-11T08:52:58.042821Z",
     "start_time": "2022-04-11T08:52:58.003842Z"
    }
   },
   "outputs": [
    {
     "data": {
      "text/html": [
       "<div>\n",
       "<style scoped>\n",
       "    .dataframe tbody tr th:only-of-type {\n",
       "        vertical-align: middle;\n",
       "    }\n",
       "\n",
       "    .dataframe tbody tr th {\n",
       "        vertical-align: top;\n",
       "    }\n",
       "\n",
       "    .dataframe thead th {\n",
       "        text-align: right;\n",
       "    }\n",
       "</style>\n",
       "<table border=\"1\" class=\"dataframe\">\n",
       "  <thead>\n",
       "    <tr style=\"text-align: right;\">\n",
       "      <th></th>\n",
       "      <th>Time (Mins)</th>\n",
       "      <th>Recall Rate</th>\n",
       "      <th>Log of Time</th>\n",
       "    </tr>\n",
       "  </thead>\n",
       "  <tbody>\n",
       "    <tr>\n",
       "      <th>count</th>\n",
       "      <td>13.000000</td>\n",
       "      <td>13.000000</td>\n",
       "      <td>13.000000</td>\n",
       "    </tr>\n",
       "    <tr>\n",
       "      <th>mean</th>\n",
       "      <td>1679.307692</td>\n",
       "      <td>0.432308</td>\n",
       "      <td>5.226857</td>\n",
       "    </tr>\n",
       "    <tr>\n",
       "      <th>std</th>\n",
       "      <td>3018.230508</td>\n",
       "      <td>0.222567</td>\n",
       "      <td>2.794976</td>\n",
       "    </tr>\n",
       "    <tr>\n",
       "      <th>min</th>\n",
       "      <td>1.000000</td>\n",
       "      <td>0.080000</td>\n",
       "      <td>0.000000</td>\n",
       "    </tr>\n",
       "    <tr>\n",
       "      <th>25%</th>\n",
       "      <td>30.000000</td>\n",
       "      <td>0.260000</td>\n",
       "      <td>3.401197</td>\n",
       "    </tr>\n",
       "    <tr>\n",
       "      <th>50%</th>\n",
       "      <td>240.000000</td>\n",
       "      <td>0.450000</td>\n",
       "      <td>5.480639</td>\n",
       "    </tr>\n",
       "    <tr>\n",
       "      <th>75%</th>\n",
       "      <td>1440.000000</td>\n",
       "      <td>0.560000</td>\n",
       "      <td>7.272398</td>\n",
       "    </tr>\n",
       "    <tr>\n",
       "      <th>max</th>\n",
       "      <td>10080.000000</td>\n",
       "      <td>0.840000</td>\n",
       "      <td>9.218309</td>\n",
       "    </tr>\n",
       "  </tbody>\n",
       "</table>\n",
       "</div>"
      ],
      "text/plain": [
       "        Time (Mins)  Recall Rate  Log of Time\n",
       "count     13.000000    13.000000    13.000000\n",
       "mean    1679.307692     0.432308     5.226857\n",
       "std     3018.230508     0.222567     2.794976\n",
       "min        1.000000     0.080000     0.000000\n",
       "25%       30.000000     0.260000     3.401197\n",
       "50%      240.000000     0.450000     5.480639\n",
       "75%     1440.000000     0.560000     7.272398\n",
       "max    10080.000000     0.840000     9.218309"
      ]
     },
     "execution_count": 35,
     "metadata": {},
     "output_type": "execute_result"
    }
   ],
   "source": [
    "df.describe()"
   ]
  },
  {
   "cell_type": "code",
   "execution_count": 36,
   "id": "0ccdbd05",
   "metadata": {
    "ExecuteTime": {
     "end_time": "2022-04-11T08:53:03.421337Z",
     "start_time": "2022-04-11T08:53:03.402331Z"
    }
   },
   "outputs": [
    {
     "data": {
      "text/plain": [
       "Time (Mins)    4.896013\n",
       "Recall Rate   -0.572419\n",
       "Log of Time   -0.671292\n",
       "dtype: float64"
      ]
     },
     "execution_count": 36,
     "metadata": {},
     "output_type": "execute_result"
    }
   ],
   "source": [
    "df.kurt()"
   ]
  },
  {
   "cell_type": "code",
   "execution_count": 37,
   "id": "cad01f0b",
   "metadata": {
    "ExecuteTime": {
     "end_time": "2022-04-11T08:53:07.844489Z",
     "start_time": "2022-04-11T08:53:07.829500Z"
    }
   },
   "outputs": [
    {
     "data": {
      "text/plain": [
       "Time (Mins)    2.257935\n",
       "Recall Rate    0.143672\n",
       "Log of Time   -0.348620\n",
       "dtype: float64"
      ]
     },
     "execution_count": 37,
     "metadata": {},
     "output_type": "execute_result"
    }
   ],
   "source": [
    "df.skew()"
   ]
  },
  {
   "cell_type": "code",
   "execution_count": 38,
   "id": "170a9d90",
   "metadata": {
    "ExecuteTime": {
     "end_time": "2022-04-11T08:53:19.162080Z",
     "start_time": "2022-04-11T08:53:19.147089Z"
    }
   },
   "outputs": [],
   "source": [
    "model = LinearRegression()"
   ]
  },
  {
   "cell_type": "code",
   "execution_count": 39,
   "id": "cfb48fed",
   "metadata": {
    "ExecuteTime": {
     "end_time": "2022-04-11T08:53:31.334355Z",
     "start_time": "2022-04-11T08:53:31.322362Z"
    }
   },
   "outputs": [],
   "source": [
    "X = df[[\"Log of Time\"]]"
   ]
  },
  {
   "cell_type": "code",
   "execution_count": 40,
   "id": "5811a2cb",
   "metadata": {
    "ExecuteTime": {
     "end_time": "2022-04-11T08:53:34.580851Z",
     "start_time": "2022-04-11T08:53:34.564860Z"
    }
   },
   "outputs": [],
   "source": [
    "y = df[[\"Recall Rate\"]]"
   ]
  },
  {
   "cell_type": "code",
   "execution_count": 41,
   "id": "8d06f37c",
   "metadata": {
    "ExecuteTime": {
     "end_time": "2022-04-11T08:53:38.871606Z",
     "start_time": "2022-04-11T08:53:38.841430Z"
    }
   },
   "outputs": [
    {
     "data": {
      "text/html": [
       "<div>\n",
       "<style scoped>\n",
       "    .dataframe tbody tr th:only-of-type {\n",
       "        vertical-align: middle;\n",
       "    }\n",
       "\n",
       "    .dataframe tbody tr th {\n",
       "        vertical-align: top;\n",
       "    }\n",
       "\n",
       "    .dataframe thead th {\n",
       "        text-align: right;\n",
       "    }\n",
       "</style>\n",
       "<table border=\"1\" class=\"dataframe\">\n",
       "  <thead>\n",
       "    <tr style=\"text-align: right;\">\n",
       "      <th></th>\n",
       "      <th>Log of Time</th>\n",
       "    </tr>\n",
       "  </thead>\n",
       "  <tbody>\n",
       "    <tr>\n",
       "      <th>0</th>\n",
       "      <td>0.000000</td>\n",
       "    </tr>\n",
       "    <tr>\n",
       "      <th>1</th>\n",
       "      <td>1.609438</td>\n",
       "    </tr>\n",
       "    <tr>\n",
       "      <th>2</th>\n",
       "      <td>2.708050</td>\n",
       "    </tr>\n",
       "    <tr>\n",
       "      <th>3</th>\n",
       "      <td>3.401197</td>\n",
       "    </tr>\n",
       "    <tr>\n",
       "      <th>4</th>\n",
       "      <td>4.094345</td>\n",
       "    </tr>\n",
       "    <tr>\n",
       "      <th>5</th>\n",
       "      <td>4.787492</td>\n",
       "    </tr>\n",
       "    <tr>\n",
       "      <th>6</th>\n",
       "      <td>5.480639</td>\n",
       "    </tr>\n",
       "    <tr>\n",
       "      <th>7</th>\n",
       "      <td>6.173786</td>\n",
       "    </tr>\n",
       "    <tr>\n",
       "      <th>8</th>\n",
       "      <td>6.579251</td>\n",
       "    </tr>\n",
       "    <tr>\n",
       "      <th>9</th>\n",
       "      <td>7.272398</td>\n",
       "    </tr>\n",
       "    <tr>\n",
       "      <th>10</th>\n",
       "      <td>7.965546</td>\n",
       "    </tr>\n",
       "    <tr>\n",
       "      <th>11</th>\n",
       "      <td>8.658693</td>\n",
       "    </tr>\n",
       "    <tr>\n",
       "      <th>12</th>\n",
       "      <td>9.218309</td>\n",
       "    </tr>\n",
       "  </tbody>\n",
       "</table>\n",
       "</div>"
      ],
      "text/plain": [
       "    Log of Time\n",
       "0      0.000000\n",
       "1      1.609438\n",
       "2      2.708050\n",
       "3      3.401197\n",
       "4      4.094345\n",
       "5      4.787492\n",
       "6      5.480639\n",
       "7      6.173786\n",
       "8      6.579251\n",
       "9      7.272398\n",
       "10     7.965546\n",
       "11     8.658693\n",
       "12     9.218309"
      ]
     },
     "execution_count": 41,
     "metadata": {},
     "output_type": "execute_result"
    }
   ],
   "source": [
    "X"
   ]
  },
  {
   "cell_type": "code",
   "execution_count": 42,
   "id": "e3d27a50",
   "metadata": {
    "ExecuteTime": {
     "end_time": "2022-04-11T08:53:41.865334Z",
     "start_time": "2022-04-11T08:53:41.843350Z"
    }
   },
   "outputs": [
    {
     "data": {
      "text/html": [
       "<div>\n",
       "<style scoped>\n",
       "    .dataframe tbody tr th:only-of-type {\n",
       "        vertical-align: middle;\n",
       "    }\n",
       "\n",
       "    .dataframe tbody tr th {\n",
       "        vertical-align: top;\n",
       "    }\n",
       "\n",
       "    .dataframe thead th {\n",
       "        text-align: right;\n",
       "    }\n",
       "</style>\n",
       "<table border=\"1\" class=\"dataframe\">\n",
       "  <thead>\n",
       "    <tr style=\"text-align: right;\">\n",
       "      <th></th>\n",
       "      <th>Recall Rate</th>\n",
       "    </tr>\n",
       "  </thead>\n",
       "  <tbody>\n",
       "    <tr>\n",
       "      <th>0</th>\n",
       "      <td>0.84</td>\n",
       "    </tr>\n",
       "    <tr>\n",
       "      <th>1</th>\n",
       "      <td>0.71</td>\n",
       "    </tr>\n",
       "    <tr>\n",
       "      <th>2</th>\n",
       "      <td>0.61</td>\n",
       "    </tr>\n",
       "    <tr>\n",
       "      <th>3</th>\n",
       "      <td>0.56</td>\n",
       "    </tr>\n",
       "    <tr>\n",
       "      <th>4</th>\n",
       "      <td>0.54</td>\n",
       "    </tr>\n",
       "    <tr>\n",
       "      <th>5</th>\n",
       "      <td>0.47</td>\n",
       "    </tr>\n",
       "    <tr>\n",
       "      <th>6</th>\n",
       "      <td>0.45</td>\n",
       "    </tr>\n",
       "    <tr>\n",
       "      <th>7</th>\n",
       "      <td>0.38</td>\n",
       "    </tr>\n",
       "    <tr>\n",
       "      <th>8</th>\n",
       "      <td>0.36</td>\n",
       "    </tr>\n",
       "    <tr>\n",
       "      <th>9</th>\n",
       "      <td>0.26</td>\n",
       "    </tr>\n",
       "    <tr>\n",
       "      <th>10</th>\n",
       "      <td>0.20</td>\n",
       "    </tr>\n",
       "    <tr>\n",
       "      <th>11</th>\n",
       "      <td>0.16</td>\n",
       "    </tr>\n",
       "    <tr>\n",
       "      <th>12</th>\n",
       "      <td>0.08</td>\n",
       "    </tr>\n",
       "  </tbody>\n",
       "</table>\n",
       "</div>"
      ],
      "text/plain": [
       "    Recall Rate\n",
       "0          0.84\n",
       "1          0.71\n",
       "2          0.61\n",
       "3          0.56\n",
       "4          0.54\n",
       "5          0.47\n",
       "6          0.45\n",
       "7          0.38\n",
       "8          0.36\n",
       "9          0.26\n",
       "10         0.20\n",
       "11         0.16\n",
       "12         0.08"
      ]
     },
     "execution_count": 42,
     "metadata": {},
     "output_type": "execute_result"
    }
   ],
   "source": [
    "y"
   ]
  },
  {
   "cell_type": "code",
   "execution_count": 52,
   "id": "be6941a8",
   "metadata": {
    "ExecuteTime": {
     "end_time": "2022-04-11T08:57:36.799547Z",
     "start_time": "2022-04-11T08:57:36.776560Z"
    }
   },
   "outputs": [],
   "source": [
    "X_train, X_test, y_train, y_test = train_test_split(X, y, test_size=0.3, random_state=1)"
   ]
  },
  {
   "cell_type": "code",
   "execution_count": 53,
   "id": "13482601",
   "metadata": {
    "ExecuteTime": {
     "end_time": "2022-04-11T08:57:50.324577Z",
     "start_time": "2022-04-11T08:57:50.305591Z"
    }
   },
   "outputs": [
    {
     "data": {
      "text/plain": [
       "LinearRegression()"
      ]
     },
     "execution_count": 53,
     "metadata": {},
     "output_type": "execute_result"
    }
   ],
   "source": [
    "model.fit(X_train,y_train)"
   ]
  },
  {
   "cell_type": "code",
   "execution_count": 55,
   "id": "74c2728a",
   "metadata": {
    "ExecuteTime": {
     "end_time": "2022-04-11T08:58:22.288095Z",
     "start_time": "2022-04-11T08:58:22.273104Z"
    }
   },
   "outputs": [],
   "source": [
    "y_pred = model.predict(X_test)"
   ]
  },
  {
   "cell_type": "code",
   "execution_count": 56,
   "id": "b4f9f113",
   "metadata": {
    "ExecuteTime": {
     "end_time": "2022-04-11T08:58:22.409915Z",
     "start_time": "2022-04-11T08:58:22.293094Z"
    }
   },
   "outputs": [
    {
     "data": {
      "text/plain": [
       "0.983564631554963"
      ]
     },
     "execution_count": 56,
     "metadata": {},
     "output_type": "execute_result"
    }
   ],
   "source": [
    "r2_score(y_test,y_pred)"
   ]
  },
  {
   "cell_type": "code",
   "execution_count": 57,
   "id": "d423bc76",
   "metadata": {
    "ExecuteTime": {
     "end_time": "2022-04-11T08:58:22.753616Z",
     "start_time": "2022-04-11T08:58:22.415911Z"
    }
   },
   "outputs": [
    {
     "data": {
      "text/plain": [
       "array([0.85301253])"
      ]
     },
     "execution_count": 57,
     "metadata": {},
     "output_type": "execute_result"
    }
   ],
   "source": [
    "model.intercept_ # c - intercept"
   ]
  },
  {
   "cell_type": "code",
   "execution_count": 58,
   "id": "cf3dbab0",
   "metadata": {
    "ExecuteTime": {
     "end_time": "2022-04-11T08:58:22.963336Z",
     "start_time": "2022-04-11T08:58:22.761615Z"
    }
   },
   "outputs": [
    {
     "data": {
      "text/plain": [
       "array([[-0.0796929]])"
      ]
     },
     "execution_count": 58,
     "metadata": {},
     "output_type": "execute_result"
    }
   ],
   "source": [
    "model.coef_ # m - coefficient"
   ]
  },
  {
   "cell_type": "code",
   "execution_count": 59,
   "id": "061a6de9",
   "metadata": {
    "ExecuteTime": {
     "end_time": "2022-04-11T08:58:23.298055Z",
     "start_time": "2022-04-11T08:58:22.967986Z"
    }
   },
   "outputs": [],
   "source": [
    "x = (0.5 - model.intercept_) / model.coef_ # y = mx + c, y = 0.5 find x"
   ]
  },
  {
   "cell_type": "code",
   "execution_count": 60,
   "id": "9dabf804",
   "metadata": {
    "ExecuteTime": {
     "end_time": "2022-04-11T08:58:23.448542Z",
     "start_time": "2022-04-11T08:58:23.303051Z"
    }
   },
   "outputs": [
    {
     "data": {
      "text/plain": [
       "array([[4.42966125]])"
      ]
     },
     "execution_count": 60,
     "metadata": {},
     "output_type": "execute_result"
    }
   ],
   "source": [
    "x"
   ]
  },
  {
   "cell_type": "code",
   "execution_count": 61,
   "id": "a8e3a1bd",
   "metadata": {
    "ExecuteTime": {
     "end_time": "2022-04-11T08:58:23.565289Z",
     "start_time": "2022-04-11T08:58:23.452539Z"
    }
   },
   "outputs": [
    {
     "data": {
      "text/plain": [
       "array([[83.90298982]])"
      ]
     },
     "execution_count": 61,
     "metadata": {},
     "output_type": "execute_result"
    }
   ],
   "source": [
    "np.exp(x) # converting time in minutes"
   ]
  },
  {
   "cell_type": "code",
   "execution_count": null,
   "id": "6501f59a",
   "metadata": {},
   "outputs": [],
   "source": []
  }
 ],
 "metadata": {
  "kernelspec": {
   "display_name": "Python 3 (ipykernel)",
   "language": "python",
   "name": "python3"
  },
  "language_info": {
   "codemirror_mode": {
    "name": "ipython",
    "version": 3
   },
   "file_extension": ".py",
   "mimetype": "text/x-python",
   "name": "python",
   "nbconvert_exporter": "python",
   "pygments_lexer": "ipython3",
   "version": "3.9.7"
  }
 },
 "nbformat": 4,
 "nbformat_minor": 5
}
